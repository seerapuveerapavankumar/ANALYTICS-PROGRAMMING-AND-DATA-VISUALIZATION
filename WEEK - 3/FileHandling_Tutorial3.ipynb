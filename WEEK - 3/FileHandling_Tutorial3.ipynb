{
 "cells": [
  {
   "cell_type": "code",
   "execution_count": null,
   "metadata": {
    "id": "UvfI9DXkrOq2"
   },
   "outputs": [],
   "source": []
  },
  {
   "cell_type": "markdown",
   "metadata": {
    "id": "ntDGC1MbrcEU"
   },
   "source": [
    "**Types of File**\n",
    "- Text File: Text file usually we use to store character data. For\n",
    "example, test.txt\n",
    "- Binary File: The binary files are used to store binary data such as images, video files, audio files, etc.\n",
    "\n",
    "**File Path**\n",
    "A file path defines the location of a file or folder in the computer system. There are two ways to specify a file path.\n",
    "\n",
    "- Absolute path: which always begins with the root folder\n",
    "- Relative path: which is relative to the program's current working directory\n",
    "The absolute path includes the complete directory list required to locate the file.\n",
    "\n",
    "For example, `/user/Pynative/data/sales.txt` is an absolute path to discover the sales.txt. All of the information needed to find the file is contained in the path string.\n",
    "\n",
    "After the filename, the part with a period(.) is called the file's extension, and that tells us the type of file. Here, project.pdf is a pdf document.\n",
    "\n",
    "![file_path.webp](data:image/webp;base64,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)"
   ]
  },
  {
   "cell_type": "markdown",
   "metadata": {
    "id": "JwQhUyx7sRy3"
   },
   "source": [
    "**Read File**\n",
    "\n",
    "To read or write a file, we need to open that file. For this purpose, Python provides a built-in function `open()`.\n",
    "\n",
    "Pass file path and access mode to the `open(file_path, access_mode `function. It returns the file object. This object is used to read or write the file according to the access mode.\n",
    "\n",
    "Accesss mode represents the purpose of opening the file. For example, R is for reading and W is for writing\n",
    "\n",
    "In this article, we will use the test.txt file for manipulating all file operations. Create a text.txt on your machine and write the below content in it to get started with file handling."
   ]
  },
  {
   "cell_type": "code",
   "execution_count": 27,
   "metadata": {
    "id": "p_OTuISarTVH"
   },
   "outputs": [],
   "source": [
    "#creating a text file with the command function \"w\"\n",
    "\n",
    "file = open(\"myfile.txt\", \"w\")\n"
   ]
  },
  {
   "cell_type": "code",
   "execution_count": 28,
   "metadata": {
    "colab": {
     "base_uri": "https://localhost:8080/"
    },
    "id": "y5U6EZqHrTX_",
    "outputId": "c7dfeba3-8c55-493d-eb55-d9fc3be66214"
   },
   "outputs": [
    {
     "data": {
      "text/plain": [
       "12"
      ]
     },
     "execution_count": 28,
     "metadata": {},
     "output_type": "execute_result"
    }
   ],
   "source": [
    "file.write(\"Hello There\\n\")\n"
   ]
  },
  {
   "cell_type": "markdown",
   "metadata": {
    "id": "Ert7wVULtjUG"
   },
   "source": [
    "### The `writelines()` method:\n",
    "This function inserts multiple strings at the same time. A list of string elements is created, and each string is then added to the text file.\n",
    "\n",
    "Using the previously created file above, the below line of code will insert the string into the created text file, which is `\"myfile.txt.”`"
   ]
  },
  {
   "cell_type": "code",
   "execution_count": 29,
   "metadata": {
    "id": "4NqsuC98rTaa"
   },
   "outputs": [],
   "source": [
    "file.writelines([\"Hello World \\n\", \"Welcome to Tutorial 3\\n\"])\n",
    "file.close()"
   ]
  },
  {
   "cell_type": "code",
   "execution_count": 29,
   "metadata": {
    "id": "OEGyaES7rTes"
   },
   "outputs": [],
   "source": []
  },
  {
   "cell_type": "markdown",
   "metadata": {
    "id": "whFVA4ThuS9U"
   },
   "source": [
    "### The `read()` method:\n",
    "This function returns the bytes read as a string. If no n is specified, it then reads the entire file.\n",
    "\n",
    "Example:"
   ]
  },
  {
   "cell_type": "code",
   "execution_count": 30,
   "metadata": {
    "colab": {
     "base_uri": "https://localhost:8080/"
    },
    "id": "85Q13ZujrThL",
    "outputId": "25eba636-5652-475c-f529-6911ec9d9dbd"
   },
   "outputs": [
    {
     "name": "stdout",
     "output_type": "stream",
     "text": [
      "Hello There\n",
      "Hello World \n",
      "Welcome to Tutorial 3\n",
      "\n"
     ]
    }
   ],
   "source": [
    "f = open(\"myfile.txt\", \"r\")\n",
    "#('r’) opens the text files for reading only\n",
    "print(f.read())\n",
    "#The \"f.read\" prints out the data in the text file in the shell when run."
   ]
  },
  {
   "cell_type": "markdown",
   "metadata": {
    "id": "8m-LXG66unSo"
   },
   "source": [
    "### The `readline()` method:\n",
    "This function reads a line from a file and returns it as a string. It reads at most n bytes for the specified n. But even if n is greater than the length of the line, it does not read more than one line."
   ]
  },
  {
   "cell_type": "code",
   "execution_count": 31,
   "metadata": {
    "colab": {
     "base_uri": "https://localhost:8080/"
    },
    "id": "8WpJDrAarTjd",
    "outputId": "d4e12d68-4fc9-4ff5-a005-474c23c85a64"
   },
   "outputs": [
    {
     "name": "stdout",
     "output_type": "stream",
     "text": [
      "Hello There\n",
      "\n"
     ]
    }
   ],
   "source": [
    "f = open(\"myfile.txt\", \"r\")\n",
    "print(f.readline())"
   ]
  },
  {
   "cell_type": "code",
   "execution_count": 31,
   "metadata": {
    "id": "MwJ97kUNrTmk"
   },
   "outputs": [],
   "source": []
  },
  {
   "cell_type": "markdown",
   "metadata": {
    "id": "JmTe9dZDutV4"
   },
   "source": [
    "### The `readlines()` method:\n",
    "This function reads all of the lines and returns them as string elements in a list, one for each line.\n",
    "\n",
    "You can read the first two lines by calling readline() twice, reading the first two lines of the file:"
   ]
  },
  {
   "cell_type": "code",
   "execution_count": 32,
   "metadata": {
    "colab": {
     "base_uri": "https://localhost:8080/"
    },
    "id": "LjQBt-sZrTo1",
    "outputId": "296025a1-9997-40e4-9031-d7fde2d24402"
   },
   "outputs": [
    {
     "name": "stdout",
     "output_type": "stream",
     "text": [
      "Hello There\n",
      "\n",
      "Hello World \n",
      "\n"
     ]
    }
   ],
   "source": [
    "f = open(\"myfile.txt\", \"r\")\n",
    "print(f.readline())\n",
    "print(f.readline())"
   ]
  },
  {
   "cell_type": "code",
   "execution_count": 33,
   "metadata": {
    "id": "RpO_auOarTrX"
   },
   "outputs": [],
   "source": [
    "f.close()"
   ]
  },
  {
   "cell_type": "code",
   "execution_count": 35,
   "metadata": {
    "colab": {
     "base_uri": "https://localhost:8080/"
    },
    "id": "J9cZ6reYrTt6",
    "outputId": "4e3019d5-a6a6-4d76-b1ca-348093708ff0"
   },
   "outputs": [
    {
     "name": "stdout",
     "output_type": "stream",
     "text": [
      "The output of the Readline function is \n",
      "Hello There\n",
      "\n",
      "\n"
     ]
    },
    {
     "data": {
      "text/plain": [
       "0"
      ]
     },
     "execution_count": 35,
     "metadata": {},
     "output_type": "execute_result"
    }
   ],
   "source": [
    "file = open(\"myfile.txt\", \"r+\")\n",
    "\n",
    "# The seek(n) takes the file handle to the nth\n",
    "# byte from the start.\n",
    "file.seek(0)\n",
    "\n",
    "print( \"The output of the Readline function is \")\n",
    "print(file.readline())\n",
    "print()\n",
    "\n",
    "file.seek(0)"
   ]
  },
  {
   "cell_type": "code",
   "execution_count": 36,
   "metadata": {
    "colab": {
     "base_uri": "https://localhost:8080/"
    },
    "id": "-AdKGs4zrTwS",
    "outputId": "e6867aa2-2fd3-4f76-ce7b-4dd68694e523"
   },
   "outputs": [
    {
     "name": "stdout",
     "output_type": "stream",
     "text": [
      "Output of Read(12) function is \n",
      "Hello There\n",
      "\n",
      "\n",
      "Output of Readline(8) function is \n",
      "Hello Th\n"
     ]
    }
   ],
   "source": [
    "# To show difference between read and readline\n",
    "\n",
    "print(\"Output of Read(12) function is \")\n",
    "print(file.read(12))\n",
    "print()\n",
    "\n",
    "file.seek(0)\n",
    "\n",
    "print(\"Output of Readline(8) function is \")\n",
    "print(file.readline(8))"
   ]
  },
  {
   "cell_type": "code",
   "execution_count": 37,
   "metadata": {
    "colab": {
     "base_uri": "https://localhost:8080/"
    },
    "id": "g9X9oo24rTzF",
    "outputId": "185caf48-f031-494b-b144-85d9a0461075"
   },
   "outputs": [
    {
     "name": "stdout",
     "output_type": "stream",
     "text": [
      "Output of Readlines function is \n",
      "['Hello There\\n', 'Hello World \\n', 'Welcome to Tutorial 3\\n']\n",
      "\n"
     ]
    }
   ],
   "source": [
    "file.seek(0)\n",
    "# readlines function\n",
    "print(\"Output of Readlines function is \")\n",
    "print(file.readlines())\n",
    "print()\n",
    "file.close()"
   ]
  },
  {
   "cell_type": "markdown",
   "metadata": {
    "id": "kRz50YxmwHSz"
   },
   "source": [
    "The code above shows that the `readline()` function is returning the letter based on the number specified to it, while the `readlines()` function is returning every string assigned to \"L\" including the \\n. That is, the `readlines()` function will print out all data in the file."
   ]
  },
  {
   "cell_type": "code",
   "execution_count": 37,
   "metadata": {
    "id": "RF7revRerT1g"
   },
   "outputs": [],
   "source": []
  },
  {
   "cell_type": "markdown",
   "metadata": {
    "id": "NDnXPZ_4w77O"
   },
   "source": [
    "### Using the `seek()` function"
   ]
  },
  {
   "cell_type": "markdown",
   "metadata": {
    "id": "sNdrJ5JPxHod"
   },
   "source": [
    "The `seek()` function sets the position of a file pointer and the `tell()` function returns the current position of a file pointer."
   ]
  },
  {
   "cell_type": "markdown",
   "metadata": {
    "id": "JgVws5AmxQig"
   },
   "source": [
    "A file handle or pointer denotes the position from which the file contents will be read or written. File handle is also called as file pointer or cursor.\n",
    "\n",
    "For example, when you open a file in write mode, the file pointer is placed at the 0th position, i.e., at the start of the file. However, it changes (increments) its position as you started writing content into it.\n",
    "\n",
    "Or, when you read a file line by line, the file pointer moves one line at a time.\n",
    "\n",
    "Sometimes we may have to read only a specific portion of the file, in such cases use the `seek()` method to move the file pointer to that position.\n",
    "\n",
    "For example, use the `seek()` function to do the file operations like: –\n",
    "\n",
    "- Read a file from the 10th character.\n",
    "- Directly jump to the 5th character from the end of the file.\n",
    "- Add new content to file after a particular position."
   ]
  },
  {
   "cell_type": "markdown",
   "metadata": {
    "id": "t0K2inw_xnFC"
   },
   "source": [
    "**How to Use `seek()` Method**\n",
    "\n",
    "To change the file handle’s position use `seek()` method. As we discussed, the `seek()` method sets the file’s current position, and then we can read or write to the file from that position.\n",
    "\n",
    "**Syntax:**\n",
    "\n",
    "`f.seek(offset, whence)`\n",
    "\n",
    "How many points the pointer will move is computed from adding `offset` to a reference point; the reference point is given by the `whence` argument.\n",
    "\n",
    "The allowed values for the `whence` argument are: –\n",
    "\n",
    "- A `whence` value of 0 means from the beginning of the file.\n",
    "- A `whence` value of 1 uses the current file position\n",
    "- A `whence` value of 2 uses the end of the file as the reference point.\n",
    "\n",
    "The default value for the `whence` is the beginning of the file, which is 0\n",
    "\n",
    "Refer to the below table for clear understanding."
   ]
  },
  {
   "cell_type": "markdown",
   "metadata": {
    "id": "C19nPc5GyDPd"
   },
   "source": [
    "### Seek Operations and their\tmeaning\n",
    "- f.seek(0) - Move file pointer to the beginning of a File\n",
    "- f.seek(5) - Move file pointer five characters ahead from - the beginning of a file.\n",
    "- f.seek(0, 2) - Move file pointer to the end of a File\n",
    "- f.seek(5, 1) - Move file pointer five characters ahead from the current position.\n",
    "- f.seek(-5, 1) - Move file pointer five characters behind from the current position.\n",
    "- f.seek(-5, 2) - Move file pointer in the reverse direction. Move it to the 5th character from the end of the file"
   ]
  },
  {
   "cell_type": "code",
   "execution_count": 38,
   "metadata": {
    "id": "FtZRyWXGrT-s"
   },
   "outputs": [],
   "source": [
    "fp = open('demo.txt', 'w')\n",
    "fp.writelines([\"First Line \\n\", \"Second Line\\n\", \"Third Line\\n\", \"Fourth Line\\n\", \"Fifth Line\\n\", \"Sixth Line\\n\", \"Secenth Line\\n\", \"Eighth Line\\n\", \"Ninth Line\\n\", \"Tenth Line\\n\"])"
   ]
  },
  {
   "cell_type": "code",
   "execution_count": 39,
   "metadata": {
    "id": "fB9vHVEvrUA2"
   },
   "outputs": [],
   "source": [
    "fp.close()"
   ]
  },
  {
   "cell_type": "code",
   "execution_count": 41,
   "metadata": {
    "colab": {
     "base_uri": "https://localhost:8080/"
    },
    "id": "tyjgFARVrUDZ",
    "outputId": "4eb6fe09-cda6-4240-f928-575224d1b91d"
   },
   "outputs": [
    {
     "name": "stdout",
     "output_type": "stream",
     "text": [
      "Line \n",
      "Second Line\n",
      "Third Line\n",
      "Fourth Line\n",
      "Fifth Line\n",
      "Sixth Line\n",
      "Secenth Line\n",
      "Eighth Line\n",
      "Ninth Line\n",
      "Tenth Line\n",
      "\n"
     ]
    }
   ],
   "source": [
    "with open('demo.txt', \"r\") as fp:\n",
    "    # Moving the file handle to 6th character\n",
    "    fp.seek(6)\n",
    "    # read file\n",
    "    print(fp.read())\n",
    "\n",
    "fp.close()"
   ]
  },
  {
   "cell_type": "code",
   "execution_count": 42,
   "metadata": {
    "colab": {
     "base_uri": "https://localhost:8080/"
    },
    "id": "zfgaYOysrUF5",
    "outputId": "3bdee9b3-5008-4c79-e453-1b494d5b10f3"
   },
   "outputs": [
    {
     "name": "stdout",
     "output_type": "stream",
     "text": [
      "My First Line\n",
      "My Second Line\n"
     ]
    }
   ],
   "source": [
    "# open file in write and read mode w+\n",
    "with open('demo.txt', \"w+\") as fp:\n",
    "    # add content\n",
    "    fp.write('My First Line\\n')\n",
    "    fp.write('My Second Line')\n",
    "    # move pointer to the beginning\n",
    "    fp.seek(0)\n",
    "    # read file\n",
    "    print(fp.read())"
   ]
  },
  {
   "cell_type": "code",
   "execution_count": 37,
   "metadata": {
    "id": "mZXdZfycrUIe"
   },
   "outputs": [],
   "source": []
  },
  {
   "cell_type": "markdown",
   "metadata": {
    "id": "jBwIGO4Yzwnz"
   },
   "source": [
    "### Seeking The End of File\n",
    "Set `whence` to 2 and the offset to 0 to move the file pointer to the end of the file.\n",
    "\n",
    "- In the below example, we will perform the following three operations\n",
    "- We will move the file pointer at the end of the file and write new content\n",
    "- Next, we will move the file pointer at the start of the file and write fresh content at the beginning of the file.\n",
    "- Again, we will move the file pointer to the end of the file and write more content."
   ]
  },
  {
   "cell_type": "code",
   "execution_count": 43,
   "metadata": {
    "colab": {
     "base_uri": "https://localhost:8080/"
    },
    "id": "vE47QZSBrUK1",
    "outputId": "678045e8-2648-41a8-9e59-04faf85d8022"
   },
   "outputs": [
    {
     "name": "stdout",
     "output_type": "stream",
     "text": [
      "My First Line\n",
      "My Second Line\n",
      "This content is added to the end of the file\n"
     ]
    }
   ],
   "source": [
    "# open file for reading and writing  a+\n",
    "with open('demo.txt', \"r+\") as fp:\n",
    "    # Moving the file handle to the end of the file\n",
    "    fp.seek(0, 2)\n",
    "\n",
    "    # Inserting new content to the end of the file\n",
    "    fp.write(\"\\nThis content is added to the end of the file\")\n",
    "\n",
    "    # moving to the beginning\n",
    "    # again read the whole file\n",
    "    fp.seek(0)\n",
    "    print(fp.read())"
   ]
  },
  {
   "cell_type": "code",
   "execution_count": 37,
   "metadata": {
    "id": "7SzivhptrUNj"
   },
   "outputs": [],
   "source": []
  },
  {
   "cell_type": "markdown",
   "metadata": {
    "id": "Du9gTaiG0Hpt"
   },
   "source": [
    "### Seek From The Current Position\n",
    "We can move the file pointer few positions ahead from the current position by setting the whence to 1 and offset to the number of the position you want to move.\n",
    "\n",
    "**For example**, the current file pointer is at 20th position, and you wanted to jump to the 75th character then set offset to 50 and `whence` to 1.\n",
    "\n",
    "We will use the existing file for this operation and open a file in read and write mode."
   ]
  },
  {
   "cell_type": "markdown",
   "metadata": {
    "id": "zineiVSv0i56"
   },
   "source": [
    "Example: Move the file handle 10 points ahead from current position.\n",
    "\n",
    "Note:\n",
    "\n",
    "- **Open file in binary mode**. For reading use the rb, for writing use the wb, and for both reading and writing use rb+.\n",
    "- **Convert byte to string** if you are reading a text file."
   ]
  },
  {
   "cell_type": "code",
   "execution_count": 44,
   "metadata": {
    "colab": {
     "base_uri": "https://localhost:8080/"
    },
    "id": "Rv5dYH3GrUQA",
    "outputId": "4e149e81-ee58-4ffd-9195-b8b5f0a61ae9"
   },
   "outputs": [
    {
     "name": "stdout",
     "output_type": "stream",
     "text": [
      "First\n",
      "econd \n"
     ]
    }
   ],
   "source": [
    "# Open file for reading in Binary mode\n",
    "with open('demo.txt', \"rb\") as fp:\n",
    "    # Move the file handle to the 5th character\n",
    "    # from the beginning of the file\n",
    "    fp.seek(3)\n",
    "    # read 5 bytes and convert it to string\n",
    "    print(fp.read(5).decode(\"utf-8\"))\n",
    "\n",
    "    # Move the fp 10 points ahead from current position\n",
    "    # read 5 bytes and convert it to string\n",
    "    fp.seek(10, 1)\n",
    "    # again read 6 bytes\n",
    "    print(fp.read(6).decode(\"utf-8\"))"
   ]
  },
  {
   "cell_type": "code",
   "execution_count": 37,
   "metadata": {
    "id": "U6o8EwOjrUSY"
   },
   "outputs": [],
   "source": []
  },
  {
   "cell_type": "markdown",
   "metadata": {
    "id": "aVKeIlqc1A8V"
   },
   "source": [
    "### Seek backward With Negative Offset\n",
    "In some cases, we have to read characters from the end of the file. to do that, we need to move the file pointer in a reverse direction.\n",
    "\n",
    "Here, you’ll learn how to seek file handle backward from current position as well as from the end of file.\n",
    "\n",
    "For example, move to the 10th character from the end of the file. This can be done by setting the offset corresponding to the end of the file.\n",
    "\n",
    "Example:\n",
    "\n",
    "In this example, we are opening the file in the read binary mode (`rb`) and pass the offset corresponding to the end of the file."
   ]
  },
  {
   "cell_type": "code",
   "execution_count": 45,
   "metadata": {
    "colab": {
     "base_uri": "https://localhost:8080/"
    },
    "id": "mTfGGO-QrUUw",
    "outputId": "2d7213cd-6d38-4326-94d3-e9787862dedb"
   },
   "outputs": [
    {
     "name": "stdout",
     "output_type": "stream",
     "text": [
      " content is\n"
     ]
    }
   ],
   "source": [
    "# Open file for reading in binary mode\n",
    "with open('demo.txt', \"rb\") as fp:\n",
    "    # Move in reverse direction\n",
    "    # move to the 40th character from the end of the file\n",
    "    fp.seek(-40, 2)\n",
    "    # read 11 bytes and convert it to string\n",
    "    print(fp.read(11).decode(\"utf-8\"))"
   ]
  },
  {
   "cell_type": "code",
   "execution_count": 46,
   "metadata": {
    "colab": {
     "base_uri": "https://localhost:8080/"
    },
    "id": "SeL1mpSnrUXR",
    "outputId": "872a9024-dce0-446a-df57-f4b7448f6d60"
   },
   "outputs": [
    {
     "name": "stdout",
     "output_type": "stream",
     "text": [
      "My First\n",
      "First Line\n"
     ]
    }
   ],
   "source": [
    "with open('demo.txt', \"rb\") as fp:\n",
    "  print(fp.read(8).decode('utf-8'))\n",
    "  # Move in reverse direction: 5th behind from current position\n",
    "  fp.seek(-5, 1)\n",
    "\n",
    "  print(fp.read(10).decode(\"utf-8\"))"
   ]
  },
  {
   "cell_type": "code",
   "execution_count": 37,
   "metadata": {
    "id": "aIkPcetcrUZe"
   },
   "outputs": [],
   "source": []
  },
  {
   "cell_type": "code",
   "execution_count": 47,
   "metadata": {
    "colab": {
     "base_uri": "https://localhost:8080/"
    },
    "id": "_yZeqeTRrUb1",
    "outputId": "18007c7d-af46-4961-cc1f-af68f2064553"
   },
   "outputs": [
    {
     "name": "stdout",
     "output_type": "stream",
     "text": [
      "file handle at: 73\n",
      "file handle at: 92\n",
      "file handle at: 0\n",
      "***Printing File Content***\n",
      "My First Line\n",
      "My Second Line\n",
      "This content is added to the end of the file\n",
      "Demonstrating tell\n",
      "***Done***\n",
      "file handle at: 92\n"
     ]
    }
   ],
   "source": [
    "# open file for reading and writing  r+\n",
    "with open('demo.txt', \"r+\") as fp:\n",
    "    # Moving the file handle to the end of the file\n",
    "    fp.seek(0, 2)\n",
    "\n",
    "    # getting the file handle position\n",
    "    print('file handle at:', fp.tell())\n",
    "\n",
    "    # writing new content\n",
    "    fp.write(\"\\nDemonstrating tell\")\n",
    "\n",
    "    # getting the file handle position\n",
    "    print('file handle at:', fp.tell())\n",
    "\n",
    "    # move to the beginning\n",
    "    fp.seek(0)\n",
    "    # getting the file handle position\n",
    "    print('file handle at:', fp.tell())\n",
    "\n",
    "    # read entire file\n",
    "    print('***Printing File Content***')\n",
    "    print(fp.read())\n",
    "    print('***Done***')\n",
    "\n",
    "    # getting the file handle position\n",
    "    print('file handle at:', fp.tell())"
   ]
  }
 ],
 "metadata": {
  "colab": {
   "provenance": []
  },
  "kernelspec": {
   "display_name": "Python 3 (ipykernel)",
   "language": "python",
   "name": "python3"
  },
  "language_info": {
   "codemirror_mode": {
    "name": "ipython",
    "version": 3
   },
   "file_extension": ".py",
   "mimetype": "text/x-python",
   "name": "python",
   "nbconvert_exporter": "python",
   "pygments_lexer": "ipython3",
   "version": "3.12.7"
  }
 },
 "nbformat": 4,
 "nbformat_minor": 4
}
