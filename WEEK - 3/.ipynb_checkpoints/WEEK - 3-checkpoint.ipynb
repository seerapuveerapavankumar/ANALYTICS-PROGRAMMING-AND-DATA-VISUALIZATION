{
 "cells": [
  {
   "cell_type": "markdown",
   "id": "b31a80a7-e557-4f40-a77a-48d83a5fa06b",
   "metadata": {},
   "source": [
    "### Exercise 1: Convert the following dictionary into JSON format\n",
    "\n",
    "### data = {\"key1\" : \"value1\", \"key2\" : \"value2\"}"
   ]
  },
  {
   "cell_type": "code",
   "execution_count": 1,
   "id": "f4310752-94c7-497a-be3c-aa6e931c81e3",
   "metadata": {},
   "outputs": [
    {
     "name": "stdout",
     "output_type": "stream",
     "text": [
      "{\"key1\": \"value1\", \"key2\": \"value2\"}\n"
     ]
    }
   ],
   "source": [
    "import json\n",
    "\n",
    "data = {\"key1\": \"value1\", \"key2\": \"value2\"}\n",
    "json_data = json.dumps(data)\n",
    "\n",
    "print(json_data)\n"
   ]
  },
  {
   "cell_type": "markdown",
   "id": "85cff937-70da-4716-8cc8-18fd8c2a2110",
   "metadata": {},
   "source": [
    "### Exercise 2: Access the value of key2 from the following JSON\n",
    "\n",
    "### import json\n",
    "### sample JSON = \"\"\"{\"key1\": \"value1\", \"key2\": \"value2\"}\"\"\"\n",
    "\n",
    "### write code to print the value of key2\n"
   ]
  },
  {
   "cell_type": "code",
   "execution_count": 2,
   "id": "5a7d6cad-d1ed-43f9-bf13-bbbe4aadb1ed",
   "metadata": {},
   "outputs": [
    {
     "name": "stdout",
     "output_type": "stream",
     "text": [
      "value2\n"
     ]
    }
   ],
   "source": [
    "import json\n",
    "\n",
    "sampleJson = \"\"\"{\"key1\": \"value1\", \"key2\": \"value2\"}\"\"\"\n",
    "data = json.loads(sampleJson) \n",
    "\n",
    "print(data[\"key2\"]) "
   ]
  },
  {
   "cell_type": "markdown",
   "id": "523823f1-50ae-4b94-924a-868a2914d1e1",
   "metadata": {},
   "source": [
    "### Exercise 3: PrettyPrint following JSON data\n",
    "\n",
    "### PrettyPrint following JSON data with indent level 2 and key value separators should be (\",\", \" = \").\n",
    "\n",
    "### sampleJson = {\"key1\": \"value1\", \"key2\": \"value2\"}\n",
    "\n"
   ]
  },
  {
   "cell_type": "code",
   "execution_count": 3,
   "id": "dc2a6039-eaa9-4608-a519-c51e017259c9",
   "metadata": {},
   "outputs": [
    {
     "name": "stdout",
     "output_type": "stream",
     "text": [
      "{\n",
      "  \"key1\" = \"value1\",\n",
      "  \"key2\" = \"value2\"\n",
      "}\n"
     ]
    }
   ],
   "source": [
    "import json\n",
    "\n",
    "sampleJson = {\"key1\": \"value1\", \"key2\": \"value2\"}\n",
    "\n",
    "pretty_json = json.dumps(sampleJson, indent=2, separators=(\",\", \" = \"))\n",
    "\n",
    "print(pretty_json)"
   ]
  },
  {
   "cell_type": "markdown",
   "id": "c75551b9-e14a-4dd2-a491-c4888dde71fa",
   "metadata": {},
   "source": [
    "### Exercise 4: Sort JSON keys in and write them into a file\n",
    "\n",
    "### Sort following JSON data alphabetical order of keys\n",
    "\n",
    "### sampleJson = {\"id\" : 1, \"name\" : \"value2\", \"age\" : 29}"
   ]
  },
  {
   "cell_type": "code",
   "execution_count": 4,
   "id": "9f5af5e8-2a1a-460f-a6b2-e2c1e221681a",
   "metadata": {},
   "outputs": [
    {
     "name": "stdout",
     "output_type": "stream",
     "text": [
      "{\n",
      "  \"age\": 29,\n",
      "  \"id\": 1,\n",
      "  \"name\": \"value2\"\n",
      "}\n"
     ]
    }
   ],
   "source": [
    "import json\n",
    "\n",
    "sampleJson = {\"id\": 1, \"name\": \"value2\", \"age\": 29}\n",
    "\n",
    "\n",
    "sorted_json = json.dumps(sampleJson, indent=2, sort_keys=True)\n",
    "\n",
    "\n",
    "with open(\"sorted_data.json\", \"w\") as file:\n",
    "    file.write(sorted_json)\n",
    "\n",
    "\n",
    "print(sorted_json)\n"
   ]
  },
  {
   "cell_type": "markdown",
   "id": "de19ef46-ecff-4ab4-8080-419f20bd606a",
   "metadata": {},
   "source": [
    "### Exercise 5: Access the nested key ‘salary’ from the following JSON\n",
    "\n",
    "import json\n",
    "\n",
    "sampleJson = \"\"\"{ \n",
    "   \"company\":{ \n",
    "      \"employee\":{ \n",
    "         \"name\":\"emma\",\n",
    "         \"payble\":{ \n",
    "            \"salary\":7000,\n",
    "            \"bonus\":800\n",
    "         }\n",
    "      }\n",
    "   }\n",
    "}\"\"\"\n",
    "\n",
    "### write code to print the value of salary\n"
   ]
  },
  {
   "cell_type": "code",
   "execution_count": 5,
   "id": "f9ed9c9c-9921-4f91-8fdc-fbea4896f243",
   "metadata": {},
   "outputs": [
    {
     "name": "stdout",
     "output_type": "stream",
     "text": [
      "7000\n"
     ]
    }
   ],
   "source": [
    "import json\n",
    "\n",
    "sampleJson = \"\"\"{ \n",
    "   \"company\":{ \n",
    "      \"employee\":{ \n",
    "         \"name\":\"emma\",\n",
    "         \"payble\":{ \n",
    "            \"salary\":7000,\n",
    "            \"bonus\":800\n",
    "         }\n",
    "      }\n",
    "   }\n",
    "}\"\"\"\n",
    "\n",
    "\n",
    "data = json.loads(sampleJson)\n",
    "\n",
    "salary = data[\"company\"][\"employee\"][\"payble\"][\"salary\"]\n",
    "\n",
    "print(salary)\n"
   ]
  },
  {
   "cell_type": "markdown",
   "id": "bf276278-3094-40ae-a6a0-e954c47c075f",
   "metadata": {},
   "source": [
    "### Exercise 6: Convert the following Vehicle Object into JSON\n",
    "\n",
    "import json\n",
    "\n",
    "class Vehicle:\n",
    "    def __init__(self, name, engine, price):\n",
    "        self.name = name\n",
    "        self.engine = engine\n",
    "        self.price = price\n",
    "\n",
    "vehicle = Vehicle(\"Toyota Rav4\", \"2.5L\", 32000)\n",
    "\n",
    "### Convert it into JSON format\n"
   ]
  },
  {
   "cell_type": "code",
   "execution_count": 6,
   "id": "3d04b5e9-be1d-4243-9429-e3cf8155b79c",
   "metadata": {},
   "outputs": [
    {
     "name": "stdout",
     "output_type": "stream",
     "text": [
      "{\n",
      "  \"name\": \"Toyota Rav4\",\n",
      "  \"engine\": \"2.5L\",\n",
      "  \"price\": 32000\n",
      "}\n"
     ]
    }
   ],
   "source": [
    "import json\n",
    "\n",
    "class Vehicle:\n",
    "    def __init__(self, name, engine, price):\n",
    "        self.name = name\n",
    "        self.engine = engine\n",
    "        self.price = price\n",
    "\n",
    "\n",
    "vehicle = Vehicle(\"Toyota Rav4\", \"2.5L\", 32000)\n",
    "\n",
    "\n",
    "vehicle_json = json.dumps(vehicle.__dict__, indent=2)\n",
    "\n",
    "\n",
    "print(vehicle_json)\n"
   ]
  },
  {
   "cell_type": "markdown",
   "id": "1caa8dea-c4f8-4cf9-a10c-8faef44dd5de",
   "metadata": {},
   "source": [
    "### Exercise 7: Convert the following JSON into Vehicle Object\n",
    "\n",
    "{ \"name\": \"Toyota Rav4\", \"engine\": \"2.5L\", \"price\": 32000 }\n",
    "\n",
    "### For example, we should be able to access Vehicle Object using the dot operator like this.\n",
    "\n",
    "vehicleObj.name, vehicleObj.engine, vehicleObj.price\n"
   ]
  },
  {
   "cell_type": "code",
   "execution_count": 7,
   "id": "e6e87dda-8000-4635-9621-6745a708457c",
   "metadata": {},
   "outputs": [
    {
     "name": "stdout",
     "output_type": "stream",
     "text": [
      "Toyota Rav4\n",
      "2.5L\n",
      "32000\n"
     ]
    }
   ],
   "source": [
    "import json\n",
    "\n",
    "class Vehicle:\n",
    "    def __init__(self, name, engine, price):\n",
    "        self.name = name\n",
    "        self.engine = engine\n",
    "        self.price = price\n",
    "\n",
    "\n",
    "vehicle_json = '{ \"name\": \"Toyota Rav4\", \"engine\": \"2.5L\", \"price\": 32000 }'\n",
    "\n",
    "\n",
    "vehicle_dict = json.loads(vehicle_json)\n",
    "\n",
    "\n",
    "vehicleObj = Vehicle(**vehicle_dict)\n",
    "\n",
    "\n",
    "print(vehicleObj.name)   \n",
    "print(vehicleObj.engine) \n",
    "print(vehicleObj.price)  \n"
   ]
  },
  {
   "cell_type": "markdown",
   "id": "9b40ed95-e755-4ec5-ae36-22756677d556",
   "metadata": {},
   "source": [
    "### Exercise 8: Check whether following json is valid or invalid. If Invalid correct it\n",
    "\n",
    "{ \n",
    "   \"company\":{ \n",
    "      \"employee\":{ \n",
    "         \"name\":\"emma\",\n",
    "         \"payble\":{ \n",
    "            \"salary\":7000\n",
    "            \"bonus\":800\n",
    "         }\n",
    "      }\n",
    "   }\n",
    "}\n"
   ]
  },
  {
   "cell_type": "code",
   "execution_count": 8,
   "id": "75382e72-c041-4d32-9a62-07fd0bc6b4e5",
   "metadata": {},
   "outputs": [
    {
     "data": {
      "text/plain": [
       "{'company': {'employee': {'name': 'emma',\n",
       "   'payble': {'salary': 7000, 'bonus': 800}}}}"
      ]
     },
     "execution_count": 8,
     "metadata": {},
     "output_type": "execute_result"
    }
   ],
   "source": [
    "# The given JSON is invalid because there is a missing comma (,) between \"salary\":7000 and \"bonus\":800.\n",
    "\n",
    "{ \n",
    "   \"company\":{ \n",
    "      \"employee\":{ \n",
    "         \"name\":\"emma\",\n",
    "         \"payble\":{ \n",
    "            \"salary\":7000,\n",
    "            \"bonus\":800\n",
    "         }\n",
    "      }\n",
    "   }\n",
    "}\n"
   ]
  },
  {
   "cell_type": "markdown",
   "id": "366b82ed-1bfa-4d7b-83d1-0d72efba4ec5",
   "metadata": {},
   "source": [
    "### Exercise 9: Parse the following JSON to get all the values of a key ‘name’ within an array\n",
    "\n",
    "[ \n",
    "   { \n",
    "      \"id\":1,\n",
    "      \"name\":\"name1\",\n",
    "      \"color\":[ \n",
    "         \"red\",\n",
    "         \"green\"\n",
    "      ]\n",
    "   },\n",
    "   { \n",
    "      \"id\":2,\n",
    "      \"name\":\"name2\",\n",
    "      \"color\":[ \n",
    "         \"pink\",\n",
    "         \"yellow\"\n",
    "      ]\n",
    "   }\n",
    "]\n"
   ]
  },
  {
   "cell_type": "code",
   "execution_count": 10,
   "id": "8e028622-19cd-4615-bfe0-8247242b9d0a",
   "metadata": {},
   "outputs": [
    {
     "name": "stdout",
     "output_type": "stream",
     "text": [
      "['name1', 'name2']\n"
     ]
    }
   ],
   "source": [
    "import json\n",
    "\n",
    "json_data = '''[ \n",
    "   { \n",
    "      \"id\":1,\n",
    "      \"name\":\"name1\",\n",
    "      \"color\":[ \n",
    "         \"red\",\n",
    "         \"green\"\n",
    "      ]\n",
    "   },\n",
    "   { \n",
    "      \"id\":2,\n",
    "      \"name\":\"name2\",\n",
    "      \"color\":[ \n",
    "         \"pink\",\n",
    "         \"yellow\"\n",
    "      ]\n",
    "   }\n",
    "]'''\n",
    "\n",
    "data = json.loads(json_data)\n",
    "\n",
    "names = [item[\"name\"] for item in data]\n",
    "\n",
    "print(names)\n"
   ]
  }
 ],
 "metadata": {
  "kernelspec": {
   "display_name": "Python 3 (ipykernel)",
   "language": "python",
   "name": "python3"
  },
  "language_info": {
   "codemirror_mode": {
    "name": "ipython",
    "version": 3
   },
   "file_extension": ".py",
   "mimetype": "text/x-python",
   "name": "python",
   "nbconvert_exporter": "python",
   "pygments_lexer": "ipython3",
   "version": "3.12.7"
  }
 },
 "nbformat": 4,
 "nbformat_minor": 5
}
