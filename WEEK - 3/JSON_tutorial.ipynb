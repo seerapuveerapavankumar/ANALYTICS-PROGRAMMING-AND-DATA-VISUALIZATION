{
 "cells": [
  {
   "cell_type": "code",
   "execution_count": null,
   "id": "7969fa4f-a137-4e7e-b9b5-831fa19fc6b2",
   "metadata": {},
   "outputs": [],
   "source": []
  },
  {
   "cell_type": "code",
   "execution_count": 2,
   "id": "6be64d4a-6d4b-4c13-8305-47d462c0bc03",
   "metadata": {},
   "outputs": [],
   "source": [
    "MLB_team = dict([\n",
    "     ('Colorado', 'Rockies'),\n",
    "     ('Boston', 'Red Sox'),\n",
    "     ('Minnesota', 'Twins'),\n",
    "     ('Milwaukee', 'Brewers'),\n",
    "     ('Seattle', 'Mariners')\n",
    " ])"
   ]
  },
  {
   "cell_type": "code",
   "execution_count": 3,
   "id": "837f8584-55c7-4e5b-85ed-66216ce5e3fa",
   "metadata": {},
   "outputs": [
    {
     "name": "stdout",
     "output_type": "stream",
     "text": [
      "{'Colorado': 'Rockies', 'Boston': 'Red Sox', 'Minnesota': 'Twins', 'Milwaukee': 'Brewers', 'Seattle': 'Mariners'}\n"
     ]
    }
   ],
   "source": [
    "print(MLB_team)"
   ]
  },
  {
   "cell_type": "code",
   "execution_count": 4,
   "id": "4e4941c2-6ae9-4963-917a-681fa4a8eadb",
   "metadata": {},
   "outputs": [],
   "source": [
    "MLB_team = dict(\n",
    "     Colorado='Rockies',\n",
    "     Boston='Red Sox',\n",
    "     Minnesota='Twins',\n",
    "     Milwaukee='Brewers',\n",
    "     Seattle='Mariners')"
   ]
  },
  {
   "cell_type": "code",
   "execution_count": 5,
   "id": "84dcd5b6-c544-453e-8d40-5829d5b60838",
   "metadata": {},
   "outputs": [
    {
     "name": "stdout",
     "output_type": "stream",
     "text": [
      "{'Colorado': 'Rockies', 'Boston': 'Red Sox', 'Minnesota': 'Twins', 'Milwaukee': 'Brewers', 'Seattle': 'Mariners'}\n"
     ]
    }
   ],
   "source": [
    "print(MLB_team)"
   ]
  },
  {
   "cell_type": "code",
   "execution_count": 6,
   "id": "443bb2d3-353b-4e6f-b9ca-e1ab18fb7f5e",
   "metadata": {},
   "outputs": [
    {
     "data": {
      "text/plain": [
       "dict"
      ]
     },
     "execution_count": 6,
     "metadata": {},
     "output_type": "execute_result"
    }
   ],
   "source": [
    "type(MLB_team)"
   ]
  },
  {
   "cell_type": "markdown",
   "id": "2f4f028e-631a-450f-8b68-62e88c2043af",
   "metadata": {},
   "source": [
    "The entries in the dictionary display in the order they were defined. But that is irrelevant when it comes to retrieving them. Dictionary elements are not accessed by numerical index"
   ]
  },
  {
   "cell_type": "code",
   "execution_count": 7,
   "id": "95854889-a58f-407e-be32-e149296e28c0",
   "metadata": {},
   "outputs": [
    {
     "ename": "KeyError",
     "evalue": "1",
     "output_type": "error",
     "traceback": [
      "\u001b[0;31m---------------------------------------------------------------------------\u001b[0m",
      "\u001b[0;31mKeyError\u001b[0m                                  Traceback (most recent call last)",
      "Cell \u001b[0;32mIn[7], line 1\u001b[0m\n\u001b[0;32m----> 1\u001b[0m MLB_team[\u001b[38;5;241m1\u001b[39m]\n",
      "\u001b[0;31mKeyError\u001b[0m: 1"
     ]
    }
   ],
   "source": [
    "MLB_team[1]"
   ]
  },
  {
   "cell_type": "code",
   "execution_count": 8,
   "id": "a09e7ca0-cfe1-42ce-806f-8e3582604228",
   "metadata": {},
   "outputs": [
    {
     "data": {
      "text/plain": [
       "'Twins'"
      ]
     },
     "execution_count": 8,
     "metadata": {},
     "output_type": "execute_result"
    }
   ],
   "source": [
    "MLB_team['Minnesota']"
   ]
  },
  {
   "cell_type": "code",
   "execution_count": 9,
   "id": "df97e4ff-951b-42bc-894c-07d0f5db4224",
   "metadata": {},
   "outputs": [
    {
     "data": {
      "text/plain": [
       "'Rockies'"
      ]
     },
     "execution_count": 9,
     "metadata": {},
     "output_type": "execute_result"
    }
   ],
   "source": [
    "MLB_team['Colorado']"
   ]
  },
  {
   "cell_type": "markdown",
   "id": "be3a59b1-eb30-4c63-93ec-c0ea1cd17ef6",
   "metadata": {},
   "source": [
    "Adding an entry to an existing dictionary is simply a matter of assigning a new key and value:"
   ]
  },
  {
   "cell_type": "code",
   "execution_count": 10,
   "id": "c72e112f-dbb0-4996-b259-4b034108f4fc",
   "metadata": {},
   "outputs": [
    {
     "data": {
      "text/plain": [
       "{'Colorado': 'Rockies',\n",
       " 'Boston': 'Red Sox',\n",
       " 'Minnesota': 'Twins',\n",
       " 'Milwaukee': 'Brewers',\n",
       " 'Seattle': 'Mariners',\n",
       " 'Kansas City': 'Royals'}"
      ]
     },
     "execution_count": 10,
     "metadata": {},
     "output_type": "execute_result"
    }
   ],
   "source": [
    "MLB_team['Kansas City'] = 'Royals'\n",
    "MLB_team"
   ]
  },
  {
   "cell_type": "markdown",
   "id": "13d19269-eccd-4729-81e9-e2c520958cde",
   "metadata": {},
   "source": [
    "To delete an entry, use the del statement, specifying the key to delete:"
   ]
  },
  {
   "cell_type": "code",
   "execution_count": 11,
   "id": "459aef5c-06a0-4d8f-a939-3c0ebf013394",
   "metadata": {},
   "outputs": [
    {
     "data": {
      "text/plain": [
       "{'Colorado': 'Rockies',\n",
       " 'Boston': 'Red Sox',\n",
       " 'Minnesota': 'Twins',\n",
       " 'Milwaukee': 'Brewers',\n",
       " 'Kansas City': 'Royals'}"
      ]
     },
     "execution_count": 11,
     "metadata": {},
     "output_type": "execute_result"
    }
   ],
   "source": [
    "del MLB_team['Seattle']\n",
    "MLB_team"
   ]
  },
  {
   "cell_type": "code",
   "execution_count": null,
   "id": "aa33a30f-5857-438c-8152-2912332f5d1e",
   "metadata": {},
   "outputs": [],
   "source": []
  },
  {
   "cell_type": "markdown",
   "id": "9300f9f7-896d-4569-8611-b8525fbee444",
   "metadata": {},
   "source": [
    "### Building a Dictionary Incrementally\n",
    "\n",
    "Defining a dictionary using curly braces and a list of key-value pairs, as shown above, is fine if you know all the keys and values in advance. But what if you want to build a dictionary on the fly?\n",
    "\n",
    "You can start by creating an empty dictionary, which is specified by empty curly braces. Then you can add new keys and values one at a time:"
   ]
  },
  {
   "cell_type": "code",
   "execution_count": 14,
   "id": "934c569b-5189-47dd-af64-7d58cf60ff54",
   "metadata": {},
   "outputs": [
    {
     "data": {
      "text/plain": [
       "dict"
      ]
     },
     "execution_count": 14,
     "metadata": {},
     "output_type": "execute_result"
    }
   ],
   "source": [
    "person = {}\n",
    "type(person)"
   ]
  },
  {
   "cell_type": "markdown",
   "id": "4b4d6be9-71cd-4eb5-afad-db0a80379160",
   "metadata": {},
   "source": [
    "Once the dictionary is created in this way, its values are accessed the same way as any other dictionary:"
   ]
  },
  {
   "cell_type": "code",
   "execution_count": 15,
   "id": "59777eda-5ec9-4f05-8cb5-789af7440a97",
   "metadata": {},
   "outputs": [],
   "source": [
    "person['fname'] = 'Joe'\n",
    "person['lname'] = 'Fonebone'\n",
    "person['age'] = 51\n",
    "person['spouse'] = 'Edna'\n",
    "person['children'] = ['Ralph', 'Betty', 'Joey']\n",
    "person['pets'] = {'dog': 'Fido', 'cat': 'Sox'}"
   ]
  },
  {
   "cell_type": "code",
   "execution_count": 16,
   "id": "87ed5017-2b71-453e-aada-382a645cf7b9",
   "metadata": {},
   "outputs": [
    {
     "data": {
      "text/plain": [
       "{'fname': 'Joe',\n",
       " 'lname': 'Fonebone',\n",
       " 'age': 51,\n",
       " 'spouse': 'Edna',\n",
       " 'children': ['Ralph', 'Betty', 'Joey'],\n",
       " 'pets': {'dog': 'Fido', 'cat': 'Sox'}}"
      ]
     },
     "execution_count": 16,
     "metadata": {},
     "output_type": "execute_result"
    }
   ],
   "source": [
    "person"
   ]
  },
  {
   "cell_type": "code",
   "execution_count": 17,
   "id": "b9368043-1cea-4208-98c6-1d28a47a4679",
   "metadata": {},
   "outputs": [
    {
     "data": {
      "text/plain": [
       "'Joe'"
      ]
     },
     "execution_count": 17,
     "metadata": {},
     "output_type": "execute_result"
    }
   ],
   "source": [
    "person['fname']"
   ]
  },
  {
   "cell_type": "code",
   "execution_count": 18,
   "id": "cbb591ec-2833-498a-b762-42a9ebfac4a9",
   "metadata": {},
   "outputs": [
    {
     "data": {
      "text/plain": [
       "'Fonebone'"
      ]
     },
     "execution_count": 18,
     "metadata": {},
     "output_type": "execute_result"
    }
   ],
   "source": [
    "person['lname']"
   ]
  },
  {
   "cell_type": "markdown",
   "id": "fc6a70e5-88c7-46e8-8a44-aac924023d52",
   "metadata": {},
   "source": [
    "Retrieving the values in the sublist or subdictionary requires an additional index or key:"
   ]
  },
  {
   "cell_type": "code",
   "execution_count": 19,
   "id": "4a72d186-79b9-4f8e-96b4-058ed6555f5e",
   "metadata": {},
   "outputs": [
    {
     "data": {
      "text/plain": [
       "'Joey'"
      ]
     },
     "execution_count": 19,
     "metadata": {},
     "output_type": "execute_result"
    }
   ],
   "source": [
    "person['children'][-1]"
   ]
  },
  {
   "cell_type": "code",
   "execution_count": 20,
   "id": "5860f0aa-5cf5-484d-b1b0-64cfc22f0f21",
   "metadata": {},
   "outputs": [
    {
     "data": {
      "text/plain": [
       "'Sox'"
      ]
     },
     "execution_count": 20,
     "metadata": {},
     "output_type": "execute_result"
    }
   ],
   "source": [
    "person['pets']['cat']"
   ]
  },
  {
   "cell_type": "code",
   "execution_count": null,
   "id": "88259a95-7ba0-42bb-9b4d-de8b268bae79",
   "metadata": {},
   "outputs": [],
   "source": []
  },
  {
   "cell_type": "markdown",
   "id": "1ac4084a-3942-458c-9b5e-ad4a6fefa1b7",
   "metadata": {},
   "source": [
    "This example exhibits another feature of dictionaries: the values contained in the dictionary don’t need to be the same type. In person, some of the values are strings, one is an integer, one is a list, and one is another dictionary.\n",
    "\n",
    "Just as the values in a dictionary don’t need to be of the same type, the keys don’t either:"
   ]
  },
  {
   "cell_type": "code",
   "execution_count": 21,
   "id": "1782d9d5-0c2e-4df0-bb3b-74a66ed19743",
   "metadata": {},
   "outputs": [],
   "source": [
    "foo = {42: 'aaa', 2.78: 'bbb', True: 'ccc'}"
   ]
  },
  {
   "cell_type": "code",
   "execution_count": 22,
   "id": "c9df1041-6bb0-423a-9ccc-b43fe879bb70",
   "metadata": {},
   "outputs": [
    {
     "data": {
      "text/plain": [
       "{42: 'aaa', 2.78: 'bbb', True: 'ccc'}"
      ]
     },
     "execution_count": 22,
     "metadata": {},
     "output_type": "execute_result"
    }
   ],
   "source": [
    "foo"
   ]
  },
  {
   "cell_type": "code",
   "execution_count": 23,
   "id": "2694f4fe-e424-4811-bc3d-c01673e8f72e",
   "metadata": {},
   "outputs": [
    {
     "data": {
      "text/plain": [
       "'aaa'"
      ]
     },
     "execution_count": 23,
     "metadata": {},
     "output_type": "execute_result"
    }
   ],
   "source": [
    "foo[42]"
   ]
  },
  {
   "cell_type": "code",
   "execution_count": 24,
   "id": "c761afa2-3665-4120-a4d4-8a84134c6cf0",
   "metadata": {},
   "outputs": [
    {
     "data": {
      "text/plain": [
       "'bbb'"
      ]
     },
     "execution_count": 24,
     "metadata": {},
     "output_type": "execute_result"
    }
   ],
   "source": [
    "foo[2.78]"
   ]
  },
  {
   "cell_type": "markdown",
   "id": "2abe431f-73db-4e98-936a-b40f8afacd3f",
   "metadata": {},
   "source": [
    "Here, one of the keys is an integer, one is a float, and one is a Boolean. It’s not obvious how this would be useful, but you never know.\n",
    "\n",
    "Notice how versatile Python dictionaries are. In MLB_team, the same piece of information (the baseball team name) is kept for each of several different geographical locations. person, on the other hand, stores varying types of data for a single person.\n",
    "\n",
    "You can use dictionaries for a wide range of purposes because there are so few limitations on the keys and values that are allowed. But there are some."
   ]
  },
  {
   "cell_type": "code",
   "execution_count": null,
   "id": "ee5f0753-9b50-4612-96c0-af946dfa7b67",
   "metadata": {},
   "outputs": [],
   "source": []
  },
  {
   "cell_type": "markdown",
   "id": "d5ecca43-94b5-4263-af15-b58e72448008",
   "metadata": {},
   "source": [
    "### Restrictions on Dictionary Keys\n",
    "Almost any type of value can be used as a dictionary key in Python. You just saw this example, where integer, float, and Boolean objects are used as keys. You can even use built-in objects like types and functions:"
   ]
  },
  {
   "cell_type": "code",
   "execution_count": 30,
   "id": "2528a664-5bbf-4898-b2fc-f5500acddb20",
   "metadata": {},
   "outputs": [
    {
     "data": {
      "text/plain": [
       "{int: 1, float: 2.4, bool: True}"
      ]
     },
     "execution_count": 30,
     "metadata": {},
     "output_type": "execute_result"
    }
   ],
   "source": [
    "d = {int: 1, float: 2.4, bool: True}\n",
    "d"
   ]
  },
  {
   "cell_type": "code",
   "execution_count": 31,
   "id": "4431511c-1d04-4cec-ae7b-59f032e3bff1",
   "metadata": {},
   "outputs": [
    {
     "data": {
      "text/plain": [
       "2.4"
      ]
     },
     "execution_count": 31,
     "metadata": {},
     "output_type": "execute_result"
    }
   ],
   "source": [
    "d[float]"
   ]
  },
  {
   "cell_type": "markdown",
   "id": "a5ee84c7-2a96-4d84-b9bc-9d640ba58bea",
   "metadata": {},
   "source": [
    "However, there are a couple restrictions that dictionary keys must abide by.\n",
    "\n",
    "First, a given key can appear in a dictionary only once. Duplicate keys are not allowed. A dictionary maps each key to a corresponding value, so it doesn’t make sense to map a particular key more than once.\n",
    "\n",
    "You saw above that when you assign a value to an already existing dictionary key, it does not add the key a second time, but replaces the existing value:"
   ]
  },
  {
   "cell_type": "code",
   "execution_count": 32,
   "id": "8a05e34d-5aa3-4141-829d-96a0f4e38210",
   "metadata": {},
   "outputs": [
    {
     "data": {
      "text/plain": [
       "{'Colorado': 'Rockies',\n",
       " 'Boston': 'Red Sox',\n",
       " 'Minnesota': 'Timberwolves',\n",
       " 'Milwaukee': 'Brewers',\n",
       " 'Seattle': 'Mariners'}"
      ]
     },
     "execution_count": 32,
     "metadata": {},
     "output_type": "execute_result"
    }
   ],
   "source": [
    "MLB_team = {\n",
    "     'Colorado' : 'Rockies',\n",
    "     'Boston'   : 'Red Sox',\n",
    "     'Minnesota': 'Twins',\n",
    "     'Milwaukee': 'Brewers',\n",
    "     'Seattle'  : 'Mariners'\n",
    "}\n",
    "MLB_team['Minnesota'] = 'Timberwolves'\n",
    "MLB_team"
   ]
  },
  {
   "cell_type": "markdown",
   "id": "29bbc217-1715-4e65-9d86-ddce3b64fc98",
   "metadata": {},
   "source": [
    "Secondly, a dictionary key must be of a type that is immutable. You have already seen examples where several of the immutable types you are familiar with—integer, float, string, and Boolean—have served as dictionary keys.\n",
    "\n",
    "A tuple can also be a dictionary key, because tuples are immutable:"
   ]
  },
  {
   "cell_type": "code",
   "execution_count": 33,
   "id": "f567dbec-f082-451c-9660-eee4c315ba6e",
   "metadata": {},
   "outputs": [
    {
     "data": {
      "text/plain": [
       "{(1, 1): 'a', (1, 2): 'b', (2, 1): 'c', (2, 2): 'd'}"
      ]
     },
     "execution_count": 33,
     "metadata": {},
     "output_type": "execute_result"
    }
   ],
   "source": [
    "d = {(1, 1): 'a', (1, 2): 'b', (2, 1): 'c', (2, 2): 'd'}\n",
    "d"
   ]
  },
  {
   "cell_type": "code",
   "execution_count": 34,
   "id": "be27b29f-378c-415b-a173-fb48697e16da",
   "metadata": {},
   "outputs": [
    {
     "data": {
      "text/plain": [
       "'a'"
      ]
     },
     "execution_count": 34,
     "metadata": {},
     "output_type": "execute_result"
    }
   ],
   "source": [
    "d[(1,1)]"
   ]
  },
  {
   "cell_type": "code",
   "execution_count": 35,
   "id": "e738686e-aa79-4752-a17d-a8a51e0f6249",
   "metadata": {},
   "outputs": [
    {
     "data": {
      "text/plain": [
       "'b'"
      ]
     },
     "execution_count": 35,
     "metadata": {},
     "output_type": "execute_result"
    }
   ],
   "source": [
    "d[(1,2)]"
   ]
  },
  {
   "cell_type": "markdown",
   "id": "4c36b621-4756-46f1-96a0-a05498b4ba82",
   "metadata": {},
   "source": [
    "However, neither a list nor another dictionary can serve as a dictionary key, because lists and dictionaries are mutable:"
   ]
  },
  {
   "cell_type": "code",
   "execution_count": 36,
   "id": "fbbb1203-f727-44b8-98a5-afbb298daf5c",
   "metadata": {},
   "outputs": [
    {
     "ename": "TypeError",
     "evalue": "unhashable type: 'list'",
     "output_type": "error",
     "traceback": [
      "\u001b[0;31m---------------------------------------------------------------------------\u001b[0m",
      "\u001b[0;31mTypeError\u001b[0m                                 Traceback (most recent call last)",
      "Cell \u001b[0;32mIn[36], line 1\u001b[0m\n\u001b[0;32m----> 1\u001b[0m d \u001b[38;5;241m=\u001b[39m {[\u001b[38;5;241m1\u001b[39m, \u001b[38;5;241m1\u001b[39m]: \u001b[38;5;124m'\u001b[39m\u001b[38;5;124ma\u001b[39m\u001b[38;5;124m'\u001b[39m, [\u001b[38;5;241m1\u001b[39m, \u001b[38;5;241m2\u001b[39m]: \u001b[38;5;124m'\u001b[39m\u001b[38;5;124mb\u001b[39m\u001b[38;5;124m'\u001b[39m, [\u001b[38;5;241m2\u001b[39m, \u001b[38;5;241m1\u001b[39m]: \u001b[38;5;124m'\u001b[39m\u001b[38;5;124mc\u001b[39m\u001b[38;5;124m'\u001b[39m, [\u001b[38;5;241m2\u001b[39m, \u001b[38;5;241m2\u001b[39m]: \u001b[38;5;124m'\u001b[39m\u001b[38;5;124md\u001b[39m\u001b[38;5;124m'\u001b[39m}\n\u001b[1;32m      2\u001b[0m d\n",
      "\u001b[0;31mTypeError\u001b[0m: unhashable type: 'list'"
     ]
    }
   ],
   "source": [
    "d = {[1, 1]: 'a', [1, 2]: 'b', [2, 1]: 'c', [2, 2]: 'd'}\n",
    "d"
   ]
  },
  {
   "cell_type": "markdown",
   "id": "03d9f4ed-c1e2-43dd-97f4-be03f52e32fe",
   "metadata": {},
   "source": [
    "**Technical Note**: Why does the error message say “unhashable”?\n",
    "\n",
    "Technically, it is not quite correct to say an object must be immutable to be used as a dictionary key. More precisely, an object must be hashable, which means it can be passed to a hash function. A hash function takes data of arbitrary size and maps it to a relatively simpler fixed-size value called a hash value (or simply hash), which is used for table lookup and comparison.\n",
    "\n",
    "Python’s built-in hash() function returns the hash value for an object which is hashable, and raises an exception for an object which isn’t:"
   ]
  },
  {
   "cell_type": "code",
   "execution_count": 37,
   "id": "e67cfcb2-ea71-41d0-b2b4-6b4ac3cc6de9",
   "metadata": {},
   "outputs": [
    {
     "data": {
      "text/plain": [
       "5196983952249022887"
      ]
     },
     "execution_count": 37,
     "metadata": {},
     "output_type": "execute_result"
    }
   ],
   "source": [
    "hash('foo')"
   ]
  },
  {
   "cell_type": "code",
   "execution_count": null,
   "id": "d69ca8e6-271b-4fb4-9eae-b5a5ee84d607",
   "metadata": {},
   "outputs": [],
   "source": [
    "hash([1,2,3])"
   ]
  },
  {
   "cell_type": "markdown",
   "id": "27413ea1-71fe-485a-a60a-ff108af2aca4",
   "metadata": {},
   "source": [
    "All of the built-in immutable types you have learned about so far are hashable, and the mutable container types (lists and dictionaries) are not. So for present purposes, you can think of hashable and immutable as more or less synonymous."
   ]
  },
  {
   "cell_type": "code",
   "execution_count": null,
   "id": "a4c0c5e5-f082-4688-a6ca-acd846ff89c3",
   "metadata": {},
   "outputs": [],
   "source": []
  },
  {
   "cell_type": "markdown",
   "id": "01375296-dec0-469b-a224-8b1e9b89354e",
   "metadata": {},
   "source": [
    "### Restrictions on Dictionary Values\n",
    "By contrast, there are no restrictions on dictionary values. Literally none at all. A dictionary value can be any type of object Python supports, including mutable types like lists and dictionaries, and user-defined objects, which you will learn about in upcoming tutorials.\n",
    "\n",
    "There is also no restriction against a particular value appearing in a dictionary multiple times:"
   ]
  },
  {
   "cell_type": "code",
   "execution_count": 41,
   "id": "054c8b56-da9f-4e92-b9d6-d4e1aca7d1b6",
   "metadata": {},
   "outputs": [
    {
     "data": {
      "text/plain": [
       "{0: 'a', 1: 'a', 2: 'a', 3: 'a'}"
      ]
     },
     "execution_count": 41,
     "metadata": {},
     "output_type": "execute_result"
    }
   ],
   "source": [
    "d = {0: 'a', 1: 'a', 2: 'a', 3: 'a'}\n",
    "d"
   ]
  },
  {
   "cell_type": "code",
   "execution_count": 42,
   "id": "522c0781-0fef-40e5-b23e-11d773e62681",
   "metadata": {},
   "outputs": [
    {
     "data": {
      "text/plain": [
       "True"
      ]
     },
     "execution_count": 42,
     "metadata": {},
     "output_type": "execute_result"
    }
   ],
   "source": [
    "d[0] == d[1] == d[2]"
   ]
  },
  {
   "cell_type": "code",
   "execution_count": null,
   "id": "fc3a0151-2c36-4a55-8ab6-ef447e8411a2",
   "metadata": {},
   "outputs": [],
   "source": []
  },
  {
   "cell_type": "markdown",
   "id": "b9c9f362-b8c5-4041-9a1d-4fc2b968133a",
   "metadata": {},
   "source": [
    "### Operators and Built-in Functions\n",
    "You have already become familiar with many of the operators and built-in functions that can be used with strings, lists, and tuples. Some of these work with dictionaries as well.\n",
    "\n",
    "For example, the in and not in operators return True or False according to whether the specified operand occurs as a key in the dictionary:"
   ]
  },
  {
   "cell_type": "code",
   "execution_count": 43,
   "id": "e70c865c-a8d7-49f1-8553-7131ae8ce4e9",
   "metadata": {},
   "outputs": [],
   "source": [
    "MLB_team = {\n",
    "     'Colorado' : 'Rockies',\n",
    "     'Boston'   : 'Red Sox',\n",
    "     'Minnesota': 'Twins',\n",
    "     'Milwaukee': 'Brewers',\n",
    "     'Seattle'  : 'Mariners'\n",
    " }"
   ]
  },
  {
   "cell_type": "code",
   "execution_count": 44,
   "id": "097e1ace-c991-4c7a-bd0d-ceac33a77e6c",
   "metadata": {},
   "outputs": [
    {
     "data": {
      "text/plain": [
       "True"
      ]
     },
     "execution_count": 44,
     "metadata": {},
     "output_type": "execute_result"
    }
   ],
   "source": [
    "'Milwaukee' in MLB_team"
   ]
  },
  {
   "cell_type": "code",
   "execution_count": 45,
   "id": "337aa929-5768-484c-b606-36adc576e4b3",
   "metadata": {},
   "outputs": [
    {
     "data": {
      "text/plain": [
       "False"
      ]
     },
     "execution_count": 45,
     "metadata": {},
     "output_type": "execute_result"
    }
   ],
   "source": [
    "'Toronto' in MLB_team"
   ]
  },
  {
   "cell_type": "code",
   "execution_count": 46,
   "id": "42e1a962-267f-4f70-bbb7-709e397ff158",
   "metadata": {},
   "outputs": [
    {
     "data": {
      "text/plain": [
       "True"
      ]
     },
     "execution_count": 46,
     "metadata": {},
     "output_type": "execute_result"
    }
   ],
   "source": [
    "'Toronto' not in MLB_team"
   ]
  },
  {
   "cell_type": "markdown",
   "id": "ab5005ce-23d4-4d92-bbf1-4efd4d5c93a3",
   "metadata": {},
   "source": [
    "You can use the in operator together with short-circuit evaluation to avoid raising an error when trying to access a key that is not in the dictionary:"
   ]
  },
  {
   "cell_type": "code",
   "execution_count": 47,
   "id": "6c6a738b-5fae-4b37-9f55-f9283b733b4d",
   "metadata": {},
   "outputs": [
    {
     "ename": "KeyError",
     "evalue": "'Toronto'",
     "output_type": "error",
     "traceback": [
      "\u001b[0;31m---------------------------------------------------------------------------\u001b[0m",
      "\u001b[0;31mKeyError\u001b[0m                                  Traceback (most recent call last)",
      "Cell \u001b[0;32mIn[47], line 1\u001b[0m\n\u001b[0;32m----> 1\u001b[0m MLB_team[\u001b[38;5;124m'\u001b[39m\u001b[38;5;124mToronto\u001b[39m\u001b[38;5;124m'\u001b[39m]\n",
      "\u001b[0;31mKeyError\u001b[0m: 'Toronto'"
     ]
    }
   ],
   "source": [
    "MLB_team['Toronto']"
   ]
  },
  {
   "cell_type": "code",
   "execution_count": 48,
   "id": "bc78cdd4-3dad-4361-9d3d-81c37c9f3327",
   "metadata": {},
   "outputs": [
    {
     "data": {
      "text/plain": [
       "False"
      ]
     },
     "execution_count": 48,
     "metadata": {},
     "output_type": "execute_result"
    }
   ],
   "source": [
    "'Toronto' in MLB_team and MLB_team['Toronto']"
   ]
  },
  {
   "cell_type": "markdown",
   "id": "4bf27b30-44b4-4469-a136-3cfb83bbb5e5",
   "metadata": {},
   "source": [
    "In the second case, due to short-circuit evaluation, the expression `MLB_team['Toronto']` is not evaluated, so the KeyError exception does not occur."
   ]
  },
  {
   "cell_type": "code",
   "execution_count": 49,
   "id": "8a11d761-2070-4343-97a0-7b50d3f48e28",
   "metadata": {},
   "outputs": [
    {
     "data": {
      "text/plain": [
       "5"
      ]
     },
     "execution_count": 49,
     "metadata": {},
     "output_type": "execute_result"
    }
   ],
   "source": [
    "len(MLB_team)"
   ]
  },
  {
   "cell_type": "markdown",
   "id": "63507129-41f4-4e92-996d-9ea214f7821f",
   "metadata": {},
   "source": [
    "### Built-in Dictionary Methods\n",
    "As with strings and lists, there are several built-in methods that can be invoked on dictionaries. In fact, in some cases, the list and dictionary methods share the same name. (In the discussion on object-oriented programming, you will see that it is perfectly acceptable for different types to have methods with the same name.)\n",
    "\n",
    "The following is an overview of methods that apply to dictionaries:"
   ]
  },
  {
   "cell_type": "markdown",
   "id": "300612ec-7962-4219-9c55-d0a57ceb045e",
   "metadata": {},
   "source": [
    "### `d.clear()`\n",
    "Clears a dictionary.\n",
    "\n",
    "`d.clear()` empties dictionary d of all key-value pairs:"
   ]
  },
  {
   "cell_type": "code",
   "execution_count": 50,
   "id": "49e6d660-a00a-4c15-a8ab-a33db1760c69",
   "metadata": {},
   "outputs": [
    {
     "data": {
      "text/plain": [
       "{'a': 10, 'b': 20, 'c': 30}"
      ]
     },
     "execution_count": 50,
     "metadata": {},
     "output_type": "execute_result"
    }
   ],
   "source": [
    "d = {'a': 10, 'b': 20, 'c': 30}\n",
    "d"
   ]
  },
  {
   "cell_type": "code",
   "execution_count": 51,
   "id": "aad05594-ba3c-450e-82c7-0a04a23635c0",
   "metadata": {},
   "outputs": [
    {
     "data": {
      "text/plain": [
       "{}"
      ]
     },
     "execution_count": 51,
     "metadata": {},
     "output_type": "execute_result"
    }
   ],
   "source": [
    "d.clear()\n",
    "d"
   ]
  },
  {
   "cell_type": "markdown",
   "id": "ff1ac5c2-78da-4ef8-a121-f29b392d4afa",
   "metadata": {},
   "source": [
    "### `d.get(<key>[, <default>])`\n",
    "Returns the value for a key if it exists in the dictionary.\n",
    "\n",
    "The Python dictionary .get() method provides a convenient way of getting the value of a key from a dictionary without checking ahead of time whether the key exists, and without raising an error.\n",
    "\n",
    "`d.get(<key>)` searches dictionary d for `<key>` and returns the associated value if it is found. If `<key>` is not found, it returns None:"
   ]
  },
  {
   "cell_type": "code",
   "execution_count": 52,
   "id": "5ae0d52e-9a37-4b74-93bc-e07f678e20c6",
   "metadata": {},
   "outputs": [
    {
     "name": "stdout",
     "output_type": "stream",
     "text": [
      "20\n"
     ]
    }
   ],
   "source": [
    "d = {'a': 10, 'b': 20, 'c': 30}\n",
    "print(d.get('b'))"
   ]
  },
  {
   "cell_type": "code",
   "execution_count": 53,
   "id": "77c29c06-ca91-4461-94cd-d644ea051677",
   "metadata": {},
   "outputs": [
    {
     "name": "stdout",
     "output_type": "stream",
     "text": [
      "None\n"
     ]
    }
   ],
   "source": [
    "print(d.get('z'))"
   ]
  },
  {
   "cell_type": "markdown",
   "id": "a8014512-eeed-4878-94e4-102c285e9494",
   "metadata": {},
   "source": [
    "If `<key>` is not found and the optional `<default>` argument is specified, that value is returned instead of `None`:"
   ]
  },
  {
   "cell_type": "code",
   "execution_count": 54,
   "id": "1a8c794a-4e26-407a-a28c-64490d2c3cc7",
   "metadata": {},
   "outputs": [
    {
     "name": "stdout",
     "output_type": "stream",
     "text": [
      "-1\n"
     ]
    }
   ],
   "source": [
    "print(d.get('z', -1))"
   ]
  },
  {
   "cell_type": "code",
   "execution_count": null,
   "id": "2546e658-2779-4185-aace-d03da33e7bec",
   "metadata": {},
   "outputs": [],
   "source": []
  },
  {
   "cell_type": "markdown",
   "id": "8e8d7e15-3d44-4310-806d-433a6cd6dfee",
   "metadata": {},
   "source": [
    "### `d.items()`\n",
    "Returns a list of key-value pairs in a dictionary.\n",
    "\n",
    "`d.items()` returns a list of tuples containing the key-value pairs in d. The first item in each tuple is the key, and the second item is the key’s value:"
   ]
  },
  {
   "cell_type": "code",
   "execution_count": 55,
   "id": "18b8b2e0-62b5-4d8e-bf61-214f51f47159",
   "metadata": {},
   "outputs": [
    {
     "data": {
      "text/plain": [
       "{'a': 10, 'b': 20, 'c': 30}"
      ]
     },
     "execution_count": 55,
     "metadata": {},
     "output_type": "execute_result"
    }
   ],
   "source": [
    "d = {'a': 10, 'b': 20, 'c': 30}\n",
    "d"
   ]
  },
  {
   "cell_type": "code",
   "execution_count": 59,
   "id": "e95140ff-ed5f-4f45-a1fc-3af59124b737",
   "metadata": {},
   "outputs": [
    {
     "data": {
      "text/plain": [
       "dict_items([('a', 10), ('b', 20), ('c', 30)])"
      ]
     },
     "execution_count": 59,
     "metadata": {},
     "output_type": "execute_result"
    }
   ],
   "source": [
    "d.items()"
   ]
  },
  {
   "cell_type": "code",
   "execution_count": 56,
   "id": "b80899b6-2ae9-426e-b528-1038b0217394",
   "metadata": {},
   "outputs": [
    {
     "data": {
      "text/plain": [
       "[('a', 10), ('b', 20), ('c', 30)]"
      ]
     },
     "execution_count": 56,
     "metadata": {},
     "output_type": "execute_result"
    }
   ],
   "source": [
    "list(d.items())"
   ]
  },
  {
   "cell_type": "code",
   "execution_count": 57,
   "id": "d93cf8c1-5fd3-4b68-a9c5-d9d3408f10ae",
   "metadata": {},
   "outputs": [
    {
     "data": {
      "text/plain": [
       "'b'"
      ]
     },
     "execution_count": 57,
     "metadata": {},
     "output_type": "execute_result"
    }
   ],
   "source": [
    "list(d.items())[1][0]"
   ]
  },
  {
   "cell_type": "code",
   "execution_count": 58,
   "id": "6119c335-cdc4-4421-9de1-d29eb633cef9",
   "metadata": {},
   "outputs": [
    {
     "data": {
      "text/plain": [
       "20"
      ]
     },
     "execution_count": 58,
     "metadata": {},
     "output_type": "execute_result"
    }
   ],
   "source": [
    "list(d.items())[1][1]"
   ]
  },
  {
   "cell_type": "code",
   "execution_count": null,
   "id": "b08a9346-9355-4f3d-bfb7-db5915268897",
   "metadata": {},
   "outputs": [],
   "source": []
  },
  {
   "cell_type": "markdown",
   "id": "fe6dade2-47c6-4666-862a-3ee5fd0beadf",
   "metadata": {},
   "source": [
    "### `d.keys()`\n",
    "Returns a list of keys in a dictionary.\n",
    "\n",
    "`d.keys()` returns a list of all keys in d:"
   ]
  },
  {
   "cell_type": "code",
   "execution_count": 60,
   "id": "bcdca08b-6579-4ed9-8f8b-820d1981cbcc",
   "metadata": {},
   "outputs": [
    {
     "data": {
      "text/plain": [
       "['a', 'b', 'c']"
      ]
     },
     "execution_count": 60,
     "metadata": {},
     "output_type": "execute_result"
    }
   ],
   "source": [
    "d = {'a': 10, 'b': 20, 'c': 30}\n",
    "list(d.keys())"
   ]
  },
  {
   "cell_type": "code",
   "execution_count": null,
   "id": "e8f7871b-ff5c-4e1b-80e9-062bbd05290b",
   "metadata": {},
   "outputs": [],
   "source": []
  },
  {
   "cell_type": "markdown",
   "id": "43fe4b45-ff5f-4325-a74b-0648f5ef9087",
   "metadata": {},
   "source": [
    "### `d.values()`\n",
    "Returns a list of values in a dictionary.\n",
    "\n",
    "`d.values()` returns a list of all values in d:"
   ]
  },
  {
   "cell_type": "code",
   "execution_count": 61,
   "id": "099d1211-fe60-4077-91b5-3bc1e062c2c5",
   "metadata": {},
   "outputs": [
    {
     "data": {
      "text/plain": [
       "[10, 20, 30]"
      ]
     },
     "execution_count": 61,
     "metadata": {},
     "output_type": "execute_result"
    }
   ],
   "source": [
    "list(d.values())"
   ]
  },
  {
   "cell_type": "markdown",
   "id": "be31965a-4c29-4b0a-b9fe-33c3f91f2727",
   "metadata": {},
   "source": [
    "Any duplicate values in d will be returned as many times as they occur:"
   ]
  },
  {
   "cell_type": "code",
   "execution_count": 62,
   "id": "8c62f745-de2e-4391-9f06-093cff819a52",
   "metadata": {},
   "outputs": [
    {
     "data": {
      "text/plain": [
       "{'a': 10, 'b': 10, 'c': 10}"
      ]
     },
     "execution_count": 62,
     "metadata": {},
     "output_type": "execute_result"
    }
   ],
   "source": [
    "d = {'a': 10, 'b': 10, 'c': 10}\n",
    "d"
   ]
  },
  {
   "cell_type": "code",
   "execution_count": 63,
   "id": "a3d8a4a7-3bf8-41e1-afd8-666da2a2bd76",
   "metadata": {},
   "outputs": [
    {
     "data": {
      "text/plain": [
       "[10, 10, 10]"
      ]
     },
     "execution_count": 63,
     "metadata": {},
     "output_type": "execute_result"
    }
   ],
   "source": [
    "list(d.values())"
   ]
  },
  {
   "cell_type": "markdown",
   "id": "6226c71a-d1eb-40b5-b2a7-6583669748df",
   "metadata": {},
   "source": [
    "**Technical Note**: The .items(), .keys(), and .values() methods actually return something called a view object. A dictionary view object is more or less like a window on the keys and values. For practical purposes, you can think of these methods as returning lists of the dictionary’s keys and values."
   ]
  },
  {
   "cell_type": "markdown",
   "id": "c36236c7-66c4-4996-a78d-190e7bd82660",
   "metadata": {},
   "source": [
    "### `d.pop(<key>[, <default>])`\n",
    "Removes a key from a dictionary, if it is present, and returns its value.\n",
    "\n",
    "If `<key>` is present in d, `d.pop(<key>)` removes `<key>` and returns its associated value:"
   ]
  },
  {
   "cell_type": "code",
   "execution_count": 64,
   "id": "7c78568c-0ba4-4a39-a29f-98f85b0c3c51",
   "metadata": {},
   "outputs": [
    {
     "data": {
      "text/plain": [
       "{'a': 10, 'b': 20, 'c': 30}"
      ]
     },
     "execution_count": 64,
     "metadata": {},
     "output_type": "execute_result"
    }
   ],
   "source": [
    "d = {'a': 10, 'b': 20, 'c': 30}\n",
    "d"
   ]
  },
  {
   "cell_type": "code",
   "execution_count": 65,
   "id": "555d0e9e-88fe-42f9-983f-3a38d3f24550",
   "metadata": {},
   "outputs": [
    {
     "data": {
      "text/plain": [
       "20"
      ]
     },
     "execution_count": 65,
     "metadata": {},
     "output_type": "execute_result"
    }
   ],
   "source": [
    "d.pop('b')"
   ]
  },
  {
   "cell_type": "code",
   "execution_count": 66,
   "id": "accad4bb-8aa0-43fd-9c8c-172c2bc5bf50",
   "metadata": {},
   "outputs": [
    {
     "data": {
      "text/plain": [
       "{'a': 10, 'c': 30}"
      ]
     },
     "execution_count": 66,
     "metadata": {},
     "output_type": "execute_result"
    }
   ],
   "source": [
    "d"
   ]
  },
  {
   "cell_type": "markdown",
   "id": "e09f2b10-58f7-4935-90a1-5323600a11e8",
   "metadata": {},
   "source": [
    "`d.pop(<key>)` raises a `KeyError` exception if `<key>` is not in d:"
   ]
  },
  {
   "cell_type": "code",
   "execution_count": 67,
   "id": "59128f01-e3e7-4f9e-94b3-11365849b8fc",
   "metadata": {},
   "outputs": [
    {
     "ename": "KeyError",
     "evalue": "'z'",
     "output_type": "error",
     "traceback": [
      "\u001b[0;31m---------------------------------------------------------------------------\u001b[0m",
      "\u001b[0;31mKeyError\u001b[0m                                  Traceback (most recent call last)",
      "Cell \u001b[0;32mIn[67], line 2\u001b[0m\n\u001b[1;32m      1\u001b[0m d \u001b[38;5;241m=\u001b[39m {\u001b[38;5;124m'\u001b[39m\u001b[38;5;124ma\u001b[39m\u001b[38;5;124m'\u001b[39m: \u001b[38;5;241m10\u001b[39m, \u001b[38;5;124m'\u001b[39m\u001b[38;5;124mb\u001b[39m\u001b[38;5;124m'\u001b[39m: \u001b[38;5;241m20\u001b[39m, \u001b[38;5;124m'\u001b[39m\u001b[38;5;124mc\u001b[39m\u001b[38;5;124m'\u001b[39m: \u001b[38;5;241m30\u001b[39m}\n\u001b[0;32m----> 2\u001b[0m d\u001b[38;5;241m.\u001b[39mpop(\u001b[38;5;124m'\u001b[39m\u001b[38;5;124mz\u001b[39m\u001b[38;5;124m'\u001b[39m)\n",
      "\u001b[0;31mKeyError\u001b[0m: 'z'"
     ]
    }
   ],
   "source": [
    "d = {'a': 10, 'b': 20, 'c': 30}\n",
    "d.pop('z')"
   ]
  },
  {
   "cell_type": "markdown",
   "id": "44d2b0bf-8fac-440b-8af0-b44e24972111",
   "metadata": {},
   "source": [
    "If `<key>` is not in d, and the optional `<default>` argument is specified, then that value is returned, and no exception is raised:"
   ]
  },
  {
   "cell_type": "code",
   "execution_count": 68,
   "id": "87fadf89-b0f2-426e-afe9-ee79b2507a9d",
   "metadata": {},
   "outputs": [
    {
     "data": {
      "text/plain": [
       "-1"
      ]
     },
     "execution_count": 68,
     "metadata": {},
     "output_type": "execute_result"
    }
   ],
   "source": [
    "d = {'a': 10, 'b': 20, 'c': 30}\n",
    "d.pop('z', -1)"
   ]
  },
  {
   "cell_type": "code",
   "execution_count": 69,
   "id": "143cbcc2-9f99-4b24-823e-c9327c8e1484",
   "metadata": {},
   "outputs": [
    {
     "data": {
      "text/plain": [
       "{'a': 10, 'b': 20, 'c': 30}"
      ]
     },
     "execution_count": 69,
     "metadata": {},
     "output_type": "execute_result"
    }
   ],
   "source": [
    "d"
   ]
  },
  {
   "cell_type": "markdown",
   "id": "f18d1a5b-ba06-4a33-bfd0-8c53aab2c37a",
   "metadata": {},
   "source": [
    "### `d.popitem()`\n",
    "Removes a key-value pair from a dictionary.\n",
    "\n",
    "`d.popitem()` removes the last key-value pair added from d and returns it as a tuple:"
   ]
  },
  {
   "cell_type": "code",
   "execution_count": 70,
   "id": "86d808f8-3446-4b08-8f32-b9501aae782d",
   "metadata": {},
   "outputs": [
    {
     "data": {
      "text/plain": [
       "('c', 30)"
      ]
     },
     "execution_count": 70,
     "metadata": {},
     "output_type": "execute_result"
    }
   ],
   "source": [
    "d.popitem()"
   ]
  },
  {
   "cell_type": "code",
   "execution_count": 71,
   "id": "06dc2575-ca74-4cbd-8819-796bcfdf15f4",
   "metadata": {},
   "outputs": [
    {
     "data": {
      "text/plain": [
       "{'a': 10, 'b': 20}"
      ]
     },
     "execution_count": 71,
     "metadata": {},
     "output_type": "execute_result"
    }
   ],
   "source": [
    "d"
   ]
  },
  {
   "cell_type": "code",
   "execution_count": 72,
   "id": "7b099b31-3ec1-4d0a-a340-39b66633e249",
   "metadata": {},
   "outputs": [
    {
     "data": {
      "text/plain": [
       "('b', 20)"
      ]
     },
     "execution_count": 72,
     "metadata": {},
     "output_type": "execute_result"
    }
   ],
   "source": [
    "d.popitem()"
   ]
  },
  {
   "cell_type": "code",
   "execution_count": 73,
   "id": "facf0ab9-95ca-4a32-b255-9690064fb3f1",
   "metadata": {},
   "outputs": [
    {
     "data": {
      "text/plain": [
       "{'a': 10}"
      ]
     },
     "execution_count": 73,
     "metadata": {},
     "output_type": "execute_result"
    }
   ],
   "source": [
    "d"
   ]
  },
  {
   "cell_type": "code",
   "execution_count": null,
   "id": "92249eb1-42c2-410d-b70d-658aca860574",
   "metadata": {},
   "outputs": [],
   "source": []
  },
  {
   "cell_type": "markdown",
   "id": "2941ab04-34fc-4cc0-8241-01430916abb4",
   "metadata": {},
   "source": [
    "### `d.update(<obj>)`\n",
    "Merges a dictionary with another dictionary or with an iterable of key-value pairs.\n",
    "\n",
    "If `<obj>` is a dictionary, `d.update(<obj>)` merges the entries from `<obj>` into d. For each key in `<obj>`:\n",
    "\n",
    "If the key is not present in d, the key-value pair from `<obj>` is added to d.\n",
    "If the key is already present in d, the corresponding value in d for that key is updated to the value from `<obj>`.\n",
    "Here is an example showing two dictionaries merged together:"
   ]
  },
  {
   "cell_type": "code",
   "execution_count": 74,
   "id": "e3059cb3-2050-4cf6-a68e-4feecd65af72",
   "metadata": {},
   "outputs": [],
   "source": [
    "d1 = {'a': 10, 'b': 20, 'c': 30}\n",
    "d2 = {'b': 200, 'd': 400}"
   ]
  },
  {
   "cell_type": "code",
   "execution_count": 75,
   "id": "a56fdd7b-b647-495c-9855-0bc320aa751a",
   "metadata": {},
   "outputs": [
    {
     "data": {
      "text/plain": [
       "{'a': 10, 'b': 200, 'c': 30, 'd': 400}"
      ]
     },
     "execution_count": 75,
     "metadata": {},
     "output_type": "execute_result"
    }
   ],
   "source": [
    "d1.update(d2)\n",
    "d1"
   ]
  },
  {
   "cell_type": "markdown",
   "id": "69ef514f-a3a7-4f4c-a315-ce45c1608d1c",
   "metadata": {},
   "source": [
    "`<obj>` may also be a sequence of key-value pairs, similar to when the `dict()` function is used to define a dictionary. For example, `<obj>` can be specified as a list of tuples:"
   ]
  },
  {
   "cell_type": "code",
   "execution_count": 76,
   "id": "873b49e6-b84d-488c-b592-f420e09da942",
   "metadata": {},
   "outputs": [
    {
     "data": {
      "text/plain": [
       "{'a': 10, 'b': 200, 'c': 30, 'd': 400}"
      ]
     },
     "execution_count": 76,
     "metadata": {},
     "output_type": "execute_result"
    }
   ],
   "source": [
    "d1 = {'a': 10, 'b': 20, 'c': 30}\n",
    "d1.update([('b', 200), ('d', 400)])\n",
    "d1"
   ]
  },
  {
   "cell_type": "markdown",
   "id": "386ad9c8-9a21-4074-b6a7-6499c326c590",
   "metadata": {},
   "source": [
    "Or the values to merge can be specified as a list of keyword arguments:"
   ]
  },
  {
   "cell_type": "code",
   "execution_count": 78,
   "id": "989c5387-8c90-4bc4-bcb7-ce3524f2dddd",
   "metadata": {},
   "outputs": [
    {
     "data": {
      "text/plain": [
       "{'a': 10, 'b': 200, 'c': 30, 'd': 400}"
      ]
     },
     "execution_count": 78,
     "metadata": {},
     "output_type": "execute_result"
    }
   ],
   "source": [
    "d1 = {'a': 10, 'b': 20, 'c': 30}\n",
    "d1.update(b=200, d=400)\n",
    "d1"
   ]
  },
  {
   "cell_type": "markdown",
   "id": "1f185746-6904-488b-83cd-26d0df8cf298",
   "metadata": {},
   "source": [
    "### Iterating over dictionaries\n",
    "Dictionaries can be iterated over, just like a list. However, a dictionary, unlike a list, does not keep the order of the values stored in it. To iterate over key value pairs, use the following syntax:"
   ]
  },
  {
   "cell_type": "code",
   "execution_count": 79,
   "id": "1ceff18d-bf70-46ff-9ac2-39b3735d85ce",
   "metadata": {},
   "outputs": [
    {
     "name": "stdout",
     "output_type": "stream",
     "text": [
      "Phone number of John is 938477566\n",
      "Phone number of Jack is 938377264\n",
      "Phone number of Jill is 947662781\n"
     ]
    }
   ],
   "source": [
    "phonebook = {\"John\" : 938477566,\"Jack\" : 938377264,\"Jill\" : 947662781}\n",
    "\n",
    "for name, number in phonebook.items():\n",
    "    print(\"Phone number of %s is %d\" % (name, number))"
   ]
  },
  {
   "cell_type": "code",
   "execution_count": null,
   "id": "0aaf7825-107d-4274-be54-6d5fc4ebd8cc",
   "metadata": {},
   "outputs": [],
   "source": []
  },
  {
   "cell_type": "code",
   "execution_count": null,
   "id": "c1bd581d-470a-4579-9ba1-9643a2380f88",
   "metadata": {},
   "outputs": [],
   "source": []
  },
  {
   "cell_type": "code",
   "execution_count": null,
   "id": "8125a6ef-b9d0-486f-95ff-24f2c5c36208",
   "metadata": {},
   "outputs": [],
   "source": []
  },
  {
   "cell_type": "code",
   "execution_count": null,
   "id": "948a10d4-a173-4552-83fa-30ea2d7bfec7",
   "metadata": {},
   "outputs": [],
   "source": []
  },
  {
   "cell_type": "code",
   "execution_count": null,
   "id": "8ca1f3b9-5104-49e8-b25a-76fea78bf0a9",
   "metadata": {},
   "outputs": [],
   "source": []
  },
  {
   "cell_type": "code",
   "execution_count": null,
   "id": "e6113a63-70a0-4663-b5ab-9ec8df604f55",
   "metadata": {},
   "outputs": [],
   "source": []
  },
  {
   "cell_type": "code",
   "execution_count": null,
   "id": "e30eb1b3-1dd3-41e1-ae62-ebdf93b02999",
   "metadata": {},
   "outputs": [],
   "source": []
  },
  {
   "cell_type": "code",
   "execution_count": null,
   "id": "8bbe3196-b808-43c9-8cb0-3f160a999101",
   "metadata": {},
   "outputs": [],
   "source": []
  },
  {
   "cell_type": "code",
   "execution_count": null,
   "id": "89c76eda-d885-45a3-83e7-fdccfe552555",
   "metadata": {},
   "outputs": [],
   "source": []
  },
  {
   "cell_type": "code",
   "execution_count": null,
   "id": "51d07067-d643-44ae-9da2-48b697039357",
   "metadata": {},
   "outputs": [],
   "source": []
  },
  {
   "cell_type": "code",
   "execution_count": null,
   "id": "b370300e-6d98-404a-af1f-5ebba2c245ca",
   "metadata": {},
   "outputs": [],
   "source": []
  },
  {
   "cell_type": "code",
   "execution_count": null,
   "id": "59514734-8b8f-4d07-991b-7d7499bbd218",
   "metadata": {},
   "outputs": [],
   "source": []
  },
  {
   "cell_type": "code",
   "execution_count": null,
   "id": "44e2ff11-8c5e-46b6-a30b-d2307e4068f7",
   "metadata": {},
   "outputs": [],
   "source": []
  },
  {
   "cell_type": "code",
   "execution_count": null,
   "id": "b467f805-e080-47f5-8257-dcf171e3e487",
   "metadata": {},
   "outputs": [],
   "source": []
  },
  {
   "cell_type": "code",
   "execution_count": null,
   "id": "3c6cc453-8431-40d7-a2d0-5e6410a7bec4",
   "metadata": {},
   "outputs": [],
   "source": []
  },
  {
   "cell_type": "code",
   "execution_count": null,
   "id": "89e23b10-c3f8-4674-acac-a936c94f7ab7",
   "metadata": {},
   "outputs": [],
   "source": []
  },
  {
   "cell_type": "code",
   "execution_count": null,
   "id": "930990e7-1f41-48bd-ba2d-c670550a4014",
   "metadata": {},
   "outputs": [],
   "source": []
  }
 ],
 "metadata": {
  "kernelspec": {
   "display_name": "Python 3 (ipykernel)",
   "language": "python",
   "name": "python3"
  },
  "language_info": {
   "codemirror_mode": {
    "name": "ipython",
    "version": 3
   },
   "file_extension": ".py",
   "mimetype": "text/x-python",
   "name": "python",
   "nbconvert_exporter": "python",
   "pygments_lexer": "ipython3",
   "version": "3.12.7"
  }
 },
 "nbformat": 4,
 "nbformat_minor": 5
}
