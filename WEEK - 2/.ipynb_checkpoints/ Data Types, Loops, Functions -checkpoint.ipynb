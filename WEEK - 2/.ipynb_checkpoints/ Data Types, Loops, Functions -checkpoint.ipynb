{
 "cells": [
  {
   "cell_type": "markdown",
   "id": "8f580140-30fe-4af9-91f0-c812cc04a596",
   "metadata": {},
   "source": [
    "## *Task 1- Lists*"
   ]
  },
  {
   "cell_type": "code",
   "execution_count": 1,
   "id": "c78de7a3-8383-4154-a1f5-1cac0bb89ceb",
   "metadata": {},
   "outputs": [],
   "source": [
    "#  Create a list to store the range of values between 10 and 25, assign it to a variable called my_list.\n",
    "\n",
    "my_list = list(range(10,25))"
   ]
  },
  {
   "cell_type": "code",
   "execution_count": 2,
   "id": "0c3faae2-16a5-4a3f-9e19-1964d0475a13",
   "metadata": {},
   "outputs": [
    {
     "name": "stdout",
     "output_type": "stream",
     "text": [
      "[10, 11, 12, 13, 14, 15, 16, 17, 18, 19, 20, 21, 22, 23, 24]\n"
     ]
    }
   ],
   "source": [
    "# Print the contents my_list.\n",
    "\n",
    "print(my_list)"
   ]
  },
  {
   "cell_type": "code",
   "execution_count": 3,
   "id": "375d28e5-91db-4ca8-b693-fec07b82d96e",
   "metadata": {},
   "outputs": [
    {
     "name": "stdout",
     "output_type": "stream",
     "text": [
      "[25, 24, 23, 22, 21, 20, 19, 18, 17, 16, 15, 14, 13, 12, 11, 10]\n"
     ]
    }
   ],
   "source": [
    "# Print the contents of my_list in reverse using index slicing.\n",
    "\n",
    "my_list = list(range(10, 26))\n",
    "\n",
    "print(my_list[::-1])"
   ]
  },
  {
   "cell_type": "code",
   "execution_count": 4,
   "id": "b3dcfb25-bbdd-45a8-82b4-fe181244bdf9",
   "metadata": {},
   "outputs": [
    {
     "name": "stdout",
     "output_type": "stream",
     "text": [
      "25 24 23 22 21 20 19 18 17 16 15 14 13 12 11 10 "
     ]
    }
   ],
   "source": [
    "# Print the contents of my_list in reverse using a loop.\n",
    "\n",
    "my_list = list(range(10, 26))\n",
    "\n",
    "# Using a for loop to iterate in reverse\n",
    "\n",
    "for i in range(len(my_list) - 1, -1, -1):\n",
    "    print(my_list[i], end=\" \")\n"
   ]
  },
  {
   "cell_type": "code",
   "execution_count": 5,
   "id": "c9283c10-5ae5-48cc-9a36-c9d1b068e89f",
   "metadata": {},
   "outputs": [
    {
     "name": "stdout",
     "output_type": "stream",
     "text": [
      "[10, 11, 12, 13, 14, 15, 16, 17, 18, 19, 20, 21, 22, 23, 24, 25, [11, 19, 26]]\n"
     ]
    }
   ],
   "source": [
    "#  Append the following list [11, 19, 26] to my_list. Note the difference between the extend and append methods.\n",
    "\n",
    "my_list = list(range(10, 26))\n",
    "\n",
    "my_list.append([11, 19, 26])  \n",
    "print(my_list)\n"
   ]
  },
  {
   "cell_type": "code",
   "execution_count": 6,
   "id": "ed7a5680-230a-45f1-b4a1-6eddb5b4ff0f",
   "metadata": {},
   "outputs": [
    {
     "name": "stdout",
     "output_type": "stream",
     "text": [
      "[10, 11, 12, 13, 14, 15, 16, 17, 18, 19, 20, 21, 22, 23, 24, 25, 11, 19, 26]\n"
     ]
    }
   ],
   "source": [
    "my_list = list(range(10, 26))\n",
    "\n",
    "my_list.extend([11, 19, 26])  \n",
    "print(my_list)"
   ]
  },
  {
   "cell_type": "code",
   "execution_count": 21,
   "id": "699821bc-3ba4-4735-96a5-4c57142bc4fd",
   "metadata": {},
   "outputs": [
    {
     "name": "stdout",
     "output_type": "stream",
     "text": [
      "[10, 11, 12, 13, 14, 15, 16, 17, 18, 19, 20, 21, 22, 23, 24, 25, 4, 41, 47, 23, 23, 36, 39, 44, 2, 4]\n"
     ]
    }
   ],
   "source": [
    "# Extend my_list with 10 random integers.\n",
    "\n",
    "import random\n",
    "\n",
    "my_list = list(range(10, 26))\n",
    "\n",
    "\n",
    "random_numbers = [random.randint(1, 50) for _ in range(10)]\n",
    "\n",
    "\n",
    "my_list.extend(random_numbers)\n",
    "\n",
    "print(my_list)\n"
   ]
  },
  {
   "cell_type": "code",
   "execution_count": 22,
   "id": "25285945-1628-40f2-919c-05cfd80cdd9c",
   "metadata": {},
   "outputs": [
    {
     "name": "stdout",
     "output_type": "stream",
     "text": [
      "Updated my_list: [10, 11, 12, 13, 14, 15, 16, 17, 18, 19, 20, 21, 22, 23, 24, 25, 4, 41, 47, 23, 23, 36, 39, 44, 2]\n",
      "Removed last value: 4\n"
     ]
    }
   ],
   "source": [
    "# Store the last number in the list in a variable called last_val and remove that value from my_list.\n",
    "\n",
    "last_val = my_list.pop()\n",
    "\n",
    "\n",
    "print(\"Updated my_list:\", my_list)\n",
    "print(\"Removed last value:\", last_val)\n"
   ]
  },
  {
   "cell_type": "code",
   "execution_count": 25,
   "id": "faae35fc-b4aa-4639-afee-ee1827af944c",
   "metadata": {},
   "outputs": [
    {
     "name": "stdout",
     "output_type": "stream",
     "text": [
      "Error: 'set' object is not subscriptable\n"
     ]
    }
   ],
   "source": [
    "# Convert my_list to a set named my_set. Try to extract the second element in the set using indexing. Does it work? If not, why not?\n",
    "\n",
    "my_set = set(my_list)\n",
    "\n",
    "\n",
    "try:\n",
    "    second_element = my_set[1]  \n",
    "    print(\"Second element:\", second_element)\n",
    "    \n",
    "except TypeError as e:\n",
    "    print(\"Error:\", e)"
   ]
  },
  {
   "cell_type": "markdown",
   "id": "8544ecf1-6762-41b9-b342-f52fa9d09830",
   "metadata": {},
   "source": [
    "### *Why?*\n",
    "\n",
    "### Sets are unordered collections, It means the elements are not stored in a fixed sequence.\n",
    "### Since sets don’t maintain order, there’s no concept of \"second\" element."
   ]
  },
  {
   "cell_type": "code",
   "execution_count": 24,
   "id": "3ce5d823-8c29-4162-9668-74ddbce0ddf3",
   "metadata": {},
   "outputs": [
    {
     "name": "stdout",
     "output_type": "stream",
     "text": [
      "Second element: 4\n"
     ]
    }
   ],
   "source": [
    "second_element = list(my_set)[1]  # Convert set to list and get second element\n",
    "print(\"Second element:\", second_element)"
   ]
  },
  {
   "cell_type": "code",
   "execution_count": 26,
   "id": "ed599095-5955-4910-8b68-f3d40820bcaa",
   "metadata": {},
   "outputs": [
    {
     "name": "stdout",
     "output_type": "stream",
     "text": [
      "Error: 'tuple' object does not support item assignment\n"
     ]
    }
   ],
   "source": [
    "# Convert my_list to a tuple named my_tuple. Assign the value 5 to the fourth element in the tuple? Does it work? If not, why not?\n",
    "\n",
    "my_tuple = tuple(my_list)\n",
    "\n",
    "try:\n",
    "    my_tuple[3] = 5 \n",
    "except TypeError as e:\n",
    "    print(\"Error:\", e)"
   ]
  },
  {
   "cell_type": "markdown",
   "id": "c787363f-0309-4b4d-8be0-3f2872816080",
   "metadata": {},
   "source": [
    "### *Why?*\n",
    "\n",
    "### Tuples are immutable, it means their elements cannot be changed, added, or removed after creation."
   ]
  },
  {
   "cell_type": "code",
   "execution_count": 27,
   "id": "7f8766e3-66a3-4457-9122-d71d17b80ccf",
   "metadata": {},
   "outputs": [
    {
     "name": "stdout",
     "output_type": "stream",
     "text": [
      "(10, 11, 12, 5, 14, 15, 16, 17, 18, 19, 20, 21, 22, 23, 24, 25, 4, 41, 47, 23, 23, 36, 39, 44, 2)\n"
     ]
    }
   ],
   "source": [
    "temp_list = list(my_tuple)  \n",
    "temp_list[3] = 5           \n",
    "\n",
    "my_tuple = tuple(temp_list) \n",
    "\n",
    "print(my_tuple)"
   ]
  },
  {
   "cell_type": "markdown",
   "id": "bb0f27ad-4212-491d-abe3-3e0d8e37180f",
   "metadata": {},
   "source": [
    "## *Task 2- Dictionaries*"
   ]
  },
  {
   "cell_type": "code",
   "execution_count": 28,
   "id": "e80e98fb-6dd0-496a-896c-c6f9679d954d",
   "metadata": {},
   "outputs": [
    {
     "name": "stdout",
     "output_type": "stream",
     "text": [
      "{}\n"
     ]
    }
   ],
   "source": [
    "# Create an empty dictionary object called my_dict\n",
    "\n",
    "my_dict = dict()\n",
    "print(my_dict)"
   ]
  },
  {
   "cell_type": "code",
   "execution_count": 35,
   "id": "5d83a188-5f50-4fae-892e-0cc5ae275f63",
   "metadata": {},
   "outputs": [
    {
     "name": "stdout",
     "output_type": "stream",
     "text": [
      "{'ten': 10, 'eleven': 11, 'twelve': 12, 'thirteen': 13, 'fourteen': 14, 'fifteen': 15, 'sixteen': 16, 'seventeen': 17, 'eighteen': 18, 'nineteen': 19, 'twenty': 20, 'twenty-one': 21, 'twenty-two': 22, 'twenty-three': 23, 'twenty-four': 24, 'twenty-five': 25}\n"
     ]
    }
   ],
   "source": [
    "# Using a loop construct, add an entry to my_dict for each value in my_list. \n",
    "# The keys for entries in my_dict should be the English-language representation of integer values in my_list.\n",
    "# Note: to convert numberstotheir English-language representation, you will need to install a module named inflect. \n",
    "# You can do this by adding the following code to a cell in your notebook:\n",
    "\n",
    "import inflect\n",
    "\n",
    "# Initialize inflect engine\n",
    "\n",
    "p = inflect.engine()\n",
    "\n",
    "# Sample list of numbers\n",
    "\n",
    "my_list = list(range(10, 26)) \n",
    "\n",
    "# Create an empty dictionary\n",
    "\n",
    "my_dict = {}\n",
    "\n",
    "# Using a loop to add entries to the dictionary\n",
    "\n",
    "for num in my_list:\n",
    "    word_representation = p.number_to_words(num)  # Convert number to words\n",
    "    my_dict[word_representation] = num  # Add entry to dictionary\n",
    "\n",
    "# Print the dictionary\n",
    "\n",
    "print(my_dict)\n",
    "\n",
    "\n"
   ]
  },
  {
   "cell_type": "markdown",
   "id": "b4b56f66-a99c-4771-afe1-8fd168868ef8",
   "metadata": {},
   "source": [
    "## *Task 3- Loops*"
   ]
  },
  {
   "cell_type": "code",
   "execution_count": null,
   "id": "52c42ed8-6ec8-4f13-9026-7cd1bc92ccb5",
   "metadata": {},
   "outputs": [],
   "source": []
  }
 ],
 "metadata": {
  "kernelspec": {
   "display_name": "Python 3 (ipykernel)",
   "language": "python",
   "name": "python3"
  },
  "language_info": {
   "codemirror_mode": {
    "name": "ipython",
    "version": 3
   },
   "file_extension": ".py",
   "mimetype": "text/x-python",
   "name": "python",
   "nbconvert_exporter": "python",
   "pygments_lexer": "ipython3",
   "version": "3.12.7"
  }
 },
 "nbformat": 4,
 "nbformat_minor": 5
}
